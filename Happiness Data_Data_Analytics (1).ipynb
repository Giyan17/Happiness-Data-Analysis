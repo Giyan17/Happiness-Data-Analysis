{
  "nbformat": 4,
  "nbformat_minor": 0,
  "metadata": {
    "colab": {
      "name": "Business Data Analytics",
      "provenance": [],
      "toc_visible": true
    },
    "kernelspec": {
      "name": "python3",
      "display_name": "Python 3"
    }
  },
  "cells": [
    {
      "cell_type": "markdown",
      "metadata": {
        "id": "KhpL1qsP0gHF"
      },
      "source": [
        "# Introduction"
      ]
    },
    {
      "cell_type": "markdown",
      "metadata": {
        "id": "44K6Kl980jZp"
      },
      "source": [
        "As a global civilization, we are awakening to the realization of just how much happiness in our day-to-day lives really matters. The positive effects of a happy mind not only propagate throughout the various dimensions of a person's life, but they furthermore ripple throughout society in a stone-in-the-pond fashion. Corporations, governments and organizations are becoming increasingly aware that its employees, citizens and members are better able to contribute to their respective tasks when minimum happiness levels are met, and that it is therefore in their best interests to contribute to the well-beings of these people. As a result, happiness metrics are becoming increasingly utilized in making policy decisions - a win for everyone."
      ]
    },
    {
      "cell_type": "markdown",
      "metadata": {
        "id": "NB1vmHtL0sOy"
      },
      "source": [
        "In 2012 the first iteration of the World Happiness Report was produced, a survey that looks at nationally representative happiness levels across countries as a measure of national progress. It was an impressive feat that required the contributions of leading experts in fields such as statistics, data science, economics, health, psychology and public policy, among many others. To evaluate happiness levels, the report used surveys provided by the Gallup World Poll, the gold standard of worldwide polling. More specifically, happiness scores are based on the Cantril Ladder, a subjective metric that asks each participant to evaluate his or her quality of life on a scale from 0 to 10, with 10 being the dream life. The poll furthermore includes geographical data and data for six characteristics that are hypothesized to be correlated with national happiness levels; it is these features and how they relate to happiness that will be the main focus of this project."
      ]
    },
    {
      "cell_type": "markdown",
      "metadata": {
        "id": "s-iAW-5g28Ra"
      },
      "source": [
        "**THE CHARACTERISTICS**\r\n",
        "\r\n",
        "Higher values of a characteristic corresponding to countries that are more favorable in those characteristics.\r\n",
        "\r\n",
        "\r\n",
        "\r\n",
        "*   GDP per capita\r\n",
        "*   Social support\r\n",
        "*   Healthy life expectancy\r\n",
        "*   Freedom to make life choices\r\n",
        "*   Generosity\r\n",
        "*   Perceptions of corruption \r\n",
        "\r\n",
        "\r\n",
        "\r\n",
        "\r\n",
        "\r\n",
        "\r\n",
        "\r\n",
        "\r\n"
      ]
    },
    {
      "cell_type": "markdown",
      "metadata": {
        "id": "ty9rX131mz5Y"
      },
      "source": [
        "# Importing Libraries\r\n"
      ]
    },
    {
      "cell_type": "code",
      "metadata": {
        "id": "OQvgjL88lMUy"
      },
      "source": [
        "import numpy as np\r\n",
        "import matplotlib.pyplot as plt\r\n",
        "import pandas as pd\r\n",
        "import seaborn as sns\r\n",
        "from scipy import stats\r\n",
        "import plotly.graph_objs as go\r\n",
        "import tensorflow as tf\r\n",
        "\r\n",
        "from sklearn.preprocessing import StandardScaler \r\n",
        "from sklearn.cluster import KMeans, AgglomerativeClustering, AffinityPropagation, DBSCAN\r\n",
        "from sklearn.mixture import GaussianMixture "
      ],
      "execution_count": null,
      "outputs": []
    },
    {
      "cell_type": "markdown",
      "metadata": {
        "id": "R1u1FWh9m7uH"
      },
      "source": [
        "# Importing Dataset"
      ]
    },
    {
      "cell_type": "code",
      "metadata": {
        "id": "YhfNeDd-m6qf"
      },
      "source": [
        "WHR = pd.read_csv('Happiness2020.csv')"
      ],
      "execution_count": null,
      "outputs": []
    },
    {
      "cell_type": "markdown",
      "metadata": {
        "id": "MeqNjPe6lSpp"
      },
      "source": [
        "# Data Exploratory"
      ]
    },
    {
      "cell_type": "markdown",
      "metadata": {
        "id": "yYpvTsYZQiC9"
      },
      "source": [
        "Printing dataset"
      ]
    },
    {
      "cell_type": "code",
      "metadata": {
        "colab": {
          "base_uri": "https://localhost:8080/",
          "height": 221
        },
        "id": "DsXUVv_YnXFA",
        "outputId": "fed4eee8-e196-4772-d3da-0a6d5b793a29"
      },
      "source": [
        "WHR.head()"
      ],
      "execution_count": null,
      "outputs": [
        {
          "output_type": "execute_result",
          "data": {
            "text/html": [
              "<div>\n",
              "<style scoped>\n",
              "    .dataframe tbody tr th:only-of-type {\n",
              "        vertical-align: middle;\n",
              "    }\n",
              "\n",
              "    .dataframe tbody tr th {\n",
              "        vertical-align: top;\n",
              "    }\n",
              "\n",
              "    .dataframe thead th {\n",
              "        text-align: right;\n",
              "    }\n",
              "</style>\n",
              "<table border=\"1\" class=\"dataframe\">\n",
              "  <thead>\n",
              "    <tr style=\"text-align: right;\">\n",
              "      <th></th>\n",
              "      <th>Country name</th>\n",
              "      <th>Regional indicator</th>\n",
              "      <th>Ladder score</th>\n",
              "      <th>Logged GDP per capita</th>\n",
              "      <th>Social support</th>\n",
              "      <th>Healthy life expectancy</th>\n",
              "      <th>Freedom to make life choices</th>\n",
              "      <th>Generosity</th>\n",
              "      <th>Perceptions of corruption</th>\n",
              "    </tr>\n",
              "  </thead>\n",
              "  <tbody>\n",
              "    <tr>\n",
              "      <th>0</th>\n",
              "      <td>Finland</td>\n",
              "      <td>Western Europe</td>\n",
              "      <td>7.8087</td>\n",
              "      <td>10.639267</td>\n",
              "      <td>0.954330</td>\n",
              "      <td>71.900825</td>\n",
              "      <td>0.949172</td>\n",
              "      <td>-0.059482</td>\n",
              "      <td>0.195445</td>\n",
              "    </tr>\n",
              "    <tr>\n",
              "      <th>1</th>\n",
              "      <td>Denmark</td>\n",
              "      <td>Western Europe</td>\n",
              "      <td>7.6456</td>\n",
              "      <td>10.774001</td>\n",
              "      <td>0.955991</td>\n",
              "      <td>72.402504</td>\n",
              "      <td>0.951444</td>\n",
              "      <td>0.066202</td>\n",
              "      <td>0.168489</td>\n",
              "    </tr>\n",
              "    <tr>\n",
              "      <th>2</th>\n",
              "      <td>Switzerland</td>\n",
              "      <td>Western Europe</td>\n",
              "      <td>7.5599</td>\n",
              "      <td>10.979933</td>\n",
              "      <td>0.942847</td>\n",
              "      <td>74.102448</td>\n",
              "      <td>0.921337</td>\n",
              "      <td>0.105911</td>\n",
              "      <td>0.303728</td>\n",
              "    </tr>\n",
              "    <tr>\n",
              "      <th>3</th>\n",
              "      <td>Iceland</td>\n",
              "      <td>Western Europe</td>\n",
              "      <td>7.5045</td>\n",
              "      <td>10.772559</td>\n",
              "      <td>0.974670</td>\n",
              "      <td>73.000000</td>\n",
              "      <td>0.948892</td>\n",
              "      <td>0.246944</td>\n",
              "      <td>0.711710</td>\n",
              "    </tr>\n",
              "    <tr>\n",
              "      <th>4</th>\n",
              "      <td>Norway</td>\n",
              "      <td>Western Europe</td>\n",
              "      <td>7.4880</td>\n",
              "      <td>11.087804</td>\n",
              "      <td>0.952487</td>\n",
              "      <td>73.200783</td>\n",
              "      <td>0.955750</td>\n",
              "      <td>0.134533</td>\n",
              "      <td>0.263218</td>\n",
              "    </tr>\n",
              "  </tbody>\n",
              "</table>\n",
              "</div>"
            ],
            "text/plain": [
              "  Country name Regional indicator  ...  Generosity  Perceptions of corruption\n",
              "0      Finland     Western Europe  ...   -0.059482                   0.195445\n",
              "1      Denmark     Western Europe  ...    0.066202                   0.168489\n",
              "2  Switzerland     Western Europe  ...    0.105911                   0.303728\n",
              "3      Iceland     Western Europe  ...    0.246944                   0.711710\n",
              "4       Norway     Western Europe  ...    0.134533                   0.263218\n",
              "\n",
              "[5 rows x 9 columns]"
            ]
          },
          "metadata": {
            "tags": []
          },
          "execution_count": 13
        }
      ]
    },
    {
      "cell_type": "code",
      "metadata": {
        "colab": {
          "base_uri": "https://localhost:8080/"
        },
        "id": "dzaYJhawr6Pt",
        "outputId": "1ab40274-c44b-4d39-e443-5af2bf0d66db"
      },
      "source": [
        "WHR.shape"
      ],
      "execution_count": null,
      "outputs": [
        {
          "output_type": "execute_result",
          "data": {
            "text/plain": [
              "(153, 9)"
            ]
          },
          "metadata": {
            "tags": []
          },
          "execution_count": 14
        }
      ]
    },
    {
      "cell_type": "markdown",
      "metadata": {
        "id": "uxakXbXoQkpk"
      },
      "source": [
        "The dataset shows that it has 153 entries with 9 features."
      ]
    },
    {
      "cell_type": "code",
      "metadata": {
        "colab": {
          "base_uri": "https://localhost:8080/"
        },
        "id": "oh758ElgnYe3",
        "outputId": "bc21b89b-2293-4ebe-ab76-48c86bd4b5eb"
      },
      "source": [
        "WHR.info()"
      ],
      "execution_count": null,
      "outputs": [
        {
          "output_type": "stream",
          "text": [
            "<class 'pandas.core.frame.DataFrame'>\n",
            "RangeIndex: 153 entries, 0 to 152\n",
            "Data columns (total 9 columns):\n",
            " #   Column                        Non-Null Count  Dtype  \n",
            "---  ------                        --------------  -----  \n",
            " 0   Country name                  153 non-null    object \n",
            " 1   Regional indicator            153 non-null    object \n",
            " 2   Ladder score                  153 non-null    float64\n",
            " 3   Logged GDP per capita         153 non-null    float64\n",
            " 4   Social support                153 non-null    float64\n",
            " 5   Healthy life expectancy       153 non-null    float64\n",
            " 6   Freedom to make life choices  153 non-null    float64\n",
            " 7   Generosity                    153 non-null    float64\n",
            " 8   Perceptions of corruption     153 non-null    float64\n",
            "dtypes: float64(7), object(2)\n",
            "memory usage: 10.9+ KB\n"
          ],
          "name": "stdout"
        }
      ]
    },
    {
      "cell_type": "code",
      "metadata": {
        "colab": {
          "base_uri": "https://localhost:8080/"
        },
        "id": "lRdblgAZ6m-x",
        "outputId": "c42da9be-b0cd-4787-ce25-ad30ac51c5eb"
      },
      "source": [
        "WHR.isnull().sum()"
      ],
      "execution_count": null,
      "outputs": [
        {
          "output_type": "execute_result",
          "data": {
            "text/plain": [
              "Country name                    0\n",
              "Regional indicator              0\n",
              "Ladder score                    0\n",
              "Logged GDP per capita           0\n",
              "Social support                  0\n",
              "Healthy life expectancy         0\n",
              "Freedom to make life choices    0\n",
              "Generosity                      0\n",
              "Perceptions of corruption       0\n",
              "dtype: int64"
            ]
          },
          "metadata": {
            "tags": []
          },
          "execution_count": 16
        }
      ]
    },
    {
      "cell_type": "markdown",
      "metadata": {
        "id": "y4R6w0uvQyIe"
      },
      "source": [
        "No null entry is there in the data."
      ]
    },
    {
      "cell_type": "code",
      "metadata": {
        "colab": {
          "base_uri": "https://localhost:8080/",
          "height": 297
        },
        "id": "IbX6wqOM64v4",
        "outputId": "3b667b22-007d-402b-d779-2d02e80a6f8f"
      },
      "source": [
        "WHR.describe()"
      ],
      "execution_count": null,
      "outputs": [
        {
          "output_type": "execute_result",
          "data": {
            "text/html": [
              "<div>\n",
              "<style scoped>\n",
              "    .dataframe tbody tr th:only-of-type {\n",
              "        vertical-align: middle;\n",
              "    }\n",
              "\n",
              "    .dataframe tbody tr th {\n",
              "        vertical-align: top;\n",
              "    }\n",
              "\n",
              "    .dataframe thead th {\n",
              "        text-align: right;\n",
              "    }\n",
              "</style>\n",
              "<table border=\"1\" class=\"dataframe\">\n",
              "  <thead>\n",
              "    <tr style=\"text-align: right;\">\n",
              "      <th></th>\n",
              "      <th>Ladder score</th>\n",
              "      <th>Logged GDP per capita</th>\n",
              "      <th>Social support</th>\n",
              "      <th>Healthy life expectancy</th>\n",
              "      <th>Freedom to make life choices</th>\n",
              "      <th>Generosity</th>\n",
              "      <th>Perceptions of corruption</th>\n",
              "    </tr>\n",
              "  </thead>\n",
              "  <tbody>\n",
              "    <tr>\n",
              "      <th>count</th>\n",
              "      <td>153.00000</td>\n",
              "      <td>153.000000</td>\n",
              "      <td>153.000000</td>\n",
              "      <td>153.000000</td>\n",
              "      <td>153.000000</td>\n",
              "      <td>153.000000</td>\n",
              "      <td>153.000000</td>\n",
              "    </tr>\n",
              "    <tr>\n",
              "      <th>mean</th>\n",
              "      <td>5.47324</td>\n",
              "      <td>9.295706</td>\n",
              "      <td>0.808721</td>\n",
              "      <td>64.445529</td>\n",
              "      <td>0.783360</td>\n",
              "      <td>-0.014568</td>\n",
              "      <td>0.733120</td>\n",
              "    </tr>\n",
              "    <tr>\n",
              "      <th>std</th>\n",
              "      <td>1.11227</td>\n",
              "      <td>1.201588</td>\n",
              "      <td>0.121453</td>\n",
              "      <td>7.057848</td>\n",
              "      <td>0.117786</td>\n",
              "      <td>0.151809</td>\n",
              "      <td>0.175172</td>\n",
              "    </tr>\n",
              "    <tr>\n",
              "      <th>min</th>\n",
              "      <td>2.56690</td>\n",
              "      <td>6.492642</td>\n",
              "      <td>0.319460</td>\n",
              "      <td>45.200001</td>\n",
              "      <td>0.396573</td>\n",
              "      <td>-0.300907</td>\n",
              "      <td>0.109784</td>\n",
              "    </tr>\n",
              "    <tr>\n",
              "      <th>25%</th>\n",
              "      <td>4.72410</td>\n",
              "      <td>8.350645</td>\n",
              "      <td>0.737217</td>\n",
              "      <td>58.961712</td>\n",
              "      <td>0.714839</td>\n",
              "      <td>-0.127015</td>\n",
              "      <td>0.683019</td>\n",
              "    </tr>\n",
              "    <tr>\n",
              "      <th>50%</th>\n",
              "      <td>5.51500</td>\n",
              "      <td>9.456313</td>\n",
              "      <td>0.829204</td>\n",
              "      <td>66.305145</td>\n",
              "      <td>0.799805</td>\n",
              "      <td>-0.033665</td>\n",
              "      <td>0.783122</td>\n",
              "    </tr>\n",
              "    <tr>\n",
              "      <th>75%</th>\n",
              "      <td>6.22850</td>\n",
              "      <td>10.265124</td>\n",
              "      <td>0.906747</td>\n",
              "      <td>69.289192</td>\n",
              "      <td>0.877709</td>\n",
              "      <td>0.085429</td>\n",
              "      <td>0.849151</td>\n",
              "    </tr>\n",
              "    <tr>\n",
              "      <th>max</th>\n",
              "      <td>7.80870</td>\n",
              "      <td>11.450681</td>\n",
              "      <td>0.974670</td>\n",
              "      <td>76.804581</td>\n",
              "      <td>0.974998</td>\n",
              "      <td>0.560664</td>\n",
              "      <td>0.935585</td>\n",
              "    </tr>\n",
              "  </tbody>\n",
              "</table>\n",
              "</div>"
            ],
            "text/plain": [
              "       Ladder score  ...  Perceptions of corruption\n",
              "count     153.00000  ...                 153.000000\n",
              "mean        5.47324  ...                   0.733120\n",
              "std         1.11227  ...                   0.175172\n",
              "min         2.56690  ...                   0.109784\n",
              "25%         4.72410  ...                   0.683019\n",
              "50%         5.51500  ...                   0.783122\n",
              "75%         6.22850  ...                   0.849151\n",
              "max         7.80870  ...                   0.935585\n",
              "\n",
              "[8 rows x 7 columns]"
            ]
          },
          "metadata": {
            "tags": []
          },
          "execution_count": 17
        }
      ]
    },
    {
      "cell_type": "code",
      "metadata": {
        "colab": {
          "base_uri": "https://localhost:8080/",
          "height": 393
        },
        "id": "PNa478Zj6_qB",
        "outputId": "57500bdc-a68c-4ea8-bb39-77235a20f514"
      },
      "source": [
        "WHR.sort_values(by=\"Ladder score\", ascending=False).head(10)"
      ],
      "execution_count": null,
      "outputs": [
        {
          "output_type": "execute_result",
          "data": {
            "text/html": [
              "<div>\n",
              "<style scoped>\n",
              "    .dataframe tbody tr th:only-of-type {\n",
              "        vertical-align: middle;\n",
              "    }\n",
              "\n",
              "    .dataframe tbody tr th {\n",
              "        vertical-align: top;\n",
              "    }\n",
              "\n",
              "    .dataframe thead th {\n",
              "        text-align: right;\n",
              "    }\n",
              "</style>\n",
              "<table border=\"1\" class=\"dataframe\">\n",
              "  <thead>\n",
              "    <tr style=\"text-align: right;\">\n",
              "      <th></th>\n",
              "      <th>Country name</th>\n",
              "      <th>Regional indicator</th>\n",
              "      <th>Ladder score</th>\n",
              "      <th>Logged GDP per capita</th>\n",
              "      <th>Social support</th>\n",
              "      <th>Healthy life expectancy</th>\n",
              "      <th>Freedom to make life choices</th>\n",
              "      <th>Generosity</th>\n",
              "      <th>Perceptions of corruption</th>\n",
              "    </tr>\n",
              "  </thead>\n",
              "  <tbody>\n",
              "    <tr>\n",
              "      <th>0</th>\n",
              "      <td>Finland</td>\n",
              "      <td>Western Europe</td>\n",
              "      <td>7.8087</td>\n",
              "      <td>10.639267</td>\n",
              "      <td>0.954330</td>\n",
              "      <td>71.900825</td>\n",
              "      <td>0.949172</td>\n",
              "      <td>-0.059482</td>\n",
              "      <td>0.195445</td>\n",
              "    </tr>\n",
              "    <tr>\n",
              "      <th>1</th>\n",
              "      <td>Denmark</td>\n",
              "      <td>Western Europe</td>\n",
              "      <td>7.6456</td>\n",
              "      <td>10.774001</td>\n",
              "      <td>0.955991</td>\n",
              "      <td>72.402504</td>\n",
              "      <td>0.951444</td>\n",
              "      <td>0.066202</td>\n",
              "      <td>0.168489</td>\n",
              "    </tr>\n",
              "    <tr>\n",
              "      <th>2</th>\n",
              "      <td>Switzerland</td>\n",
              "      <td>Western Europe</td>\n",
              "      <td>7.5599</td>\n",
              "      <td>10.979933</td>\n",
              "      <td>0.942847</td>\n",
              "      <td>74.102448</td>\n",
              "      <td>0.921337</td>\n",
              "      <td>0.105911</td>\n",
              "      <td>0.303728</td>\n",
              "    </tr>\n",
              "    <tr>\n",
              "      <th>3</th>\n",
              "      <td>Iceland</td>\n",
              "      <td>Western Europe</td>\n",
              "      <td>7.5045</td>\n",
              "      <td>10.772559</td>\n",
              "      <td>0.974670</td>\n",
              "      <td>73.000000</td>\n",
              "      <td>0.948892</td>\n",
              "      <td>0.246944</td>\n",
              "      <td>0.711710</td>\n",
              "    </tr>\n",
              "    <tr>\n",
              "      <th>4</th>\n",
              "      <td>Norway</td>\n",
              "      <td>Western Europe</td>\n",
              "      <td>7.4880</td>\n",
              "      <td>11.087804</td>\n",
              "      <td>0.952487</td>\n",
              "      <td>73.200783</td>\n",
              "      <td>0.955750</td>\n",
              "      <td>0.134533</td>\n",
              "      <td>0.263218</td>\n",
              "    </tr>\n",
              "    <tr>\n",
              "      <th>5</th>\n",
              "      <td>Netherlands</td>\n",
              "      <td>Western Europe</td>\n",
              "      <td>7.4489</td>\n",
              "      <td>10.812712</td>\n",
              "      <td>0.939139</td>\n",
              "      <td>72.300919</td>\n",
              "      <td>0.908548</td>\n",
              "      <td>0.207612</td>\n",
              "      <td>0.364717</td>\n",
              "    </tr>\n",
              "    <tr>\n",
              "      <th>6</th>\n",
              "      <td>Sweden</td>\n",
              "      <td>Western Europe</td>\n",
              "      <td>7.3535</td>\n",
              "      <td>10.758794</td>\n",
              "      <td>0.926311</td>\n",
              "      <td>72.600769</td>\n",
              "      <td>0.939144</td>\n",
              "      <td>0.111615</td>\n",
              "      <td>0.250880</td>\n",
              "    </tr>\n",
              "    <tr>\n",
              "      <th>7</th>\n",
              "      <td>New Zealand</td>\n",
              "      <td>North America and ANZ</td>\n",
              "      <td>7.2996</td>\n",
              "      <td>10.500943</td>\n",
              "      <td>0.949119</td>\n",
              "      <td>73.202629</td>\n",
              "      <td>0.936217</td>\n",
              "      <td>0.191598</td>\n",
              "      <td>0.221139</td>\n",
              "    </tr>\n",
              "    <tr>\n",
              "      <th>8</th>\n",
              "      <td>Austria</td>\n",
              "      <td>Western Europe</td>\n",
              "      <td>7.2942</td>\n",
              "      <td>10.742824</td>\n",
              "      <td>0.928046</td>\n",
              "      <td>73.002502</td>\n",
              "      <td>0.899989</td>\n",
              "      <td>0.085429</td>\n",
              "      <td>0.499955</td>\n",
              "    </tr>\n",
              "    <tr>\n",
              "      <th>9</th>\n",
              "      <td>Luxembourg</td>\n",
              "      <td>Western Europe</td>\n",
              "      <td>7.2375</td>\n",
              "      <td>11.450681</td>\n",
              "      <td>0.906912</td>\n",
              "      <td>72.599998</td>\n",
              "      <td>0.905636</td>\n",
              "      <td>-0.004621</td>\n",
              "      <td>0.367084</td>\n",
              "    </tr>\n",
              "  </tbody>\n",
              "</table>\n",
              "</div>"
            ],
            "text/plain": [
              "  Country name     Regional indicator  ...  Generosity  Perceptions of corruption\n",
              "0      Finland         Western Europe  ...   -0.059482                   0.195445\n",
              "1      Denmark         Western Europe  ...    0.066202                   0.168489\n",
              "2  Switzerland         Western Europe  ...    0.105911                   0.303728\n",
              "3      Iceland         Western Europe  ...    0.246944                   0.711710\n",
              "4       Norway         Western Europe  ...    0.134533                   0.263218\n",
              "5  Netherlands         Western Europe  ...    0.207612                   0.364717\n",
              "6       Sweden         Western Europe  ...    0.111615                   0.250880\n",
              "7  New Zealand  North America and ANZ  ...    0.191598                   0.221139\n",
              "8      Austria         Western Europe  ...    0.085429                   0.499955\n",
              "9   Luxembourg         Western Europe  ...   -0.004621                   0.367084\n",
              "\n",
              "[10 rows x 9 columns]"
            ]
          },
          "metadata": {
            "tags": []
          },
          "execution_count": 19
        }
      ]
    },
    {
      "cell_type": "markdown",
      "metadata": {
        "id": "fichdnp6Ob1H"
      },
      "source": [
        "Above are the countries with highest happiness score.\r\n",
        "\r\n",
        "It shows that **Finland** has the highest happiness score with **7.8087**, followed by **Denamrk** with **7.6456** and so on."
      ]
    },
    {
      "cell_type": "code",
      "metadata": {
        "colab": {
          "base_uri": "https://localhost:8080/",
          "height": 410
        },
        "id": "4sx09rXUOXTy",
        "outputId": "3aee2db1-58d2-4e2c-eb96-00e6fa1833af"
      },
      "source": [
        "WHR.sort_values(by=\"Ladder score\", ascending=True).head(10)"
      ],
      "execution_count": null,
      "outputs": [
        {
          "output_type": "execute_result",
          "data": {
            "text/html": [
              "<div>\n",
              "<style scoped>\n",
              "    .dataframe tbody tr th:only-of-type {\n",
              "        vertical-align: middle;\n",
              "    }\n",
              "\n",
              "    .dataframe tbody tr th {\n",
              "        vertical-align: top;\n",
              "    }\n",
              "\n",
              "    .dataframe thead th {\n",
              "        text-align: right;\n",
              "    }\n",
              "</style>\n",
              "<table border=\"1\" class=\"dataframe\">\n",
              "  <thead>\n",
              "    <tr style=\"text-align: right;\">\n",
              "      <th></th>\n",
              "      <th>Country name</th>\n",
              "      <th>Regional indicator</th>\n",
              "      <th>Ladder score</th>\n",
              "      <th>Logged GDP per capita</th>\n",
              "      <th>Social support</th>\n",
              "      <th>Healthy life expectancy</th>\n",
              "      <th>Freedom to make life choices</th>\n",
              "      <th>Generosity</th>\n",
              "      <th>Perceptions of corruption</th>\n",
              "    </tr>\n",
              "  </thead>\n",
              "  <tbody>\n",
              "    <tr>\n",
              "      <th>152</th>\n",
              "      <td>Afghanistan</td>\n",
              "      <td>South Asia</td>\n",
              "      <td>2.5669</td>\n",
              "      <td>7.462861</td>\n",
              "      <td>0.470367</td>\n",
              "      <td>52.590000</td>\n",
              "      <td>0.396573</td>\n",
              "      <td>-0.096429</td>\n",
              "      <td>0.933687</td>\n",
              "    </tr>\n",
              "    <tr>\n",
              "      <th>151</th>\n",
              "      <td>South Sudan</td>\n",
              "      <td>Sub-Saharan Africa</td>\n",
              "      <td>2.8166</td>\n",
              "      <td>7.425360</td>\n",
              "      <td>0.553707</td>\n",
              "      <td>51.000000</td>\n",
              "      <td>0.451314</td>\n",
              "      <td>0.016519</td>\n",
              "      <td>0.763417</td>\n",
              "    </tr>\n",
              "    <tr>\n",
              "      <th>150</th>\n",
              "      <td>Zimbabwe</td>\n",
              "      <td>Sub-Saharan Africa</td>\n",
              "      <td>3.2992</td>\n",
              "      <td>7.865712</td>\n",
              "      <td>0.763093</td>\n",
              "      <td>55.617260</td>\n",
              "      <td>0.711458</td>\n",
              "      <td>-0.072064</td>\n",
              "      <td>0.810237</td>\n",
              "    </tr>\n",
              "    <tr>\n",
              "      <th>149</th>\n",
              "      <td>Rwanda</td>\n",
              "      <td>Sub-Saharan Africa</td>\n",
              "      <td>3.3123</td>\n",
              "      <td>7.600104</td>\n",
              "      <td>0.540835</td>\n",
              "      <td>61.098846</td>\n",
              "      <td>0.900589</td>\n",
              "      <td>0.055484</td>\n",
              "      <td>0.183541</td>\n",
              "    </tr>\n",
              "    <tr>\n",
              "      <th>148</th>\n",
              "      <td>Central African Republic</td>\n",
              "      <td>Sub-Saharan Africa</td>\n",
              "      <td>3.4759</td>\n",
              "      <td>6.625160</td>\n",
              "      <td>0.319460</td>\n",
              "      <td>45.200001</td>\n",
              "      <td>0.640881</td>\n",
              "      <td>0.082410</td>\n",
              "      <td>0.891807</td>\n",
              "    </tr>\n",
              "    <tr>\n",
              "      <th>147</th>\n",
              "      <td>Tanzania</td>\n",
              "      <td>Sub-Saharan Africa</td>\n",
              "      <td>3.4762</td>\n",
              "      <td>7.967665</td>\n",
              "      <td>0.688933</td>\n",
              "      <td>57.496075</td>\n",
              "      <td>0.821540</td>\n",
              "      <td>0.109669</td>\n",
              "      <td>0.619799</td>\n",
              "    </tr>\n",
              "    <tr>\n",
              "      <th>146</th>\n",
              "      <td>Botswana</td>\n",
              "      <td>Sub-Saharan Africa</td>\n",
              "      <td>3.4789</td>\n",
              "      <td>9.711204</td>\n",
              "      <td>0.779122</td>\n",
              "      <td>58.924454</td>\n",
              "      <td>0.821328</td>\n",
              "      <td>-0.250394</td>\n",
              "      <td>0.777931</td>\n",
              "    </tr>\n",
              "    <tr>\n",
              "      <th>145</th>\n",
              "      <td>Yemen</td>\n",
              "      <td>Middle East and North Africa</td>\n",
              "      <td>3.5274</td>\n",
              "      <td>7.759683</td>\n",
              "      <td>0.817981</td>\n",
              "      <td>56.727283</td>\n",
              "      <td>0.599920</td>\n",
              "      <td>-0.157735</td>\n",
              "      <td>0.800288</td>\n",
              "    </tr>\n",
              "    <tr>\n",
              "      <th>144</th>\n",
              "      <td>Malawi</td>\n",
              "      <td>Sub-Saharan Africa</td>\n",
              "      <td>3.5380</td>\n",
              "      <td>7.062226</td>\n",
              "      <td>0.544007</td>\n",
              "      <td>57.592888</td>\n",
              "      <td>0.803223</td>\n",
              "      <td>0.021433</td>\n",
              "      <td>0.731701</td>\n",
              "    </tr>\n",
              "    <tr>\n",
              "      <th>143</th>\n",
              "      <td>India</td>\n",
              "      <td>South Asia</td>\n",
              "      <td>3.5733</td>\n",
              "      <td>8.849824</td>\n",
              "      <td>0.592201</td>\n",
              "      <td>60.215187</td>\n",
              "      <td>0.881445</td>\n",
              "      <td>0.057552</td>\n",
              "      <td>0.772043</td>\n",
              "    </tr>\n",
              "  </tbody>\n",
              "</table>\n",
              "</div>"
            ],
            "text/plain": [
              "                 Country name  ... Perceptions of corruption\n",
              "152               Afghanistan  ...                  0.933687\n",
              "151               South Sudan  ...                  0.763417\n",
              "150                  Zimbabwe  ...                  0.810237\n",
              "149                    Rwanda  ...                  0.183541\n",
              "148  Central African Republic  ...                  0.891807\n",
              "147                  Tanzania  ...                  0.619799\n",
              "146                  Botswana  ...                  0.777931\n",
              "145                     Yemen  ...                  0.800288\n",
              "144                    Malawi  ...                  0.731701\n",
              "143                     India  ...                  0.772043\n",
              "\n",
              "[10 rows x 9 columns]"
            ]
          },
          "metadata": {
            "tags": []
          },
          "execution_count": 21
        }
      ]
    },
    {
      "cell_type": "markdown",
      "metadata": {
        "id": "ZWEJucJ-O5M3"
      },
      "source": [
        "Above are the countires with lowest happiness score.\r\n",
        "\r\n",
        "**Afghanistan** has the lowest happiness score with **2.5669**, followed by **South Sudan** with **2.8166**."
      ]
    },
    {
      "cell_type": "code",
      "metadata": {
        "id": "ivM68yGhO-D1"
      },
      "source": [
        "WHR_Region = WHR.groupby('Regional indicator')"
      ],
      "execution_count": null,
      "outputs": []
    },
    {
      "cell_type": "code",
      "metadata": {
        "colab": {
          "base_uri": "https://localhost:8080/",
          "height": 390
        },
        "id": "q4zD6phSPNfv",
        "outputId": "c4ad4ce5-ef6e-42ca-99c0-26963cadc496"
      },
      "source": [
        "WHR_Region['Ladder score'].describe().sort_values(by=\"mean\",ascending=False).head(10)"
      ],
      "execution_count": null,
      "outputs": [
        {
          "output_type": "execute_result",
          "data": {
            "text/html": [
              "<div>\n",
              "<style scoped>\n",
              "    .dataframe tbody tr th:only-of-type {\n",
              "        vertical-align: middle;\n",
              "    }\n",
              "\n",
              "    .dataframe tbody tr th {\n",
              "        vertical-align: top;\n",
              "    }\n",
              "\n",
              "    .dataframe thead th {\n",
              "        text-align: right;\n",
              "    }\n",
              "</style>\n",
              "<table border=\"1\" class=\"dataframe\">\n",
              "  <thead>\n",
              "    <tr style=\"text-align: right;\">\n",
              "      <th></th>\n",
              "      <th>count</th>\n",
              "      <th>mean</th>\n",
              "      <th>std</th>\n",
              "      <th>min</th>\n",
              "      <th>25%</th>\n",
              "      <th>50%</th>\n",
              "      <th>75%</th>\n",
              "      <th>max</th>\n",
              "    </tr>\n",
              "    <tr>\n",
              "      <th>Regional indicator</th>\n",
              "      <th></th>\n",
              "      <th></th>\n",
              "      <th></th>\n",
              "      <th></th>\n",
              "      <th></th>\n",
              "      <th></th>\n",
              "      <th></th>\n",
              "      <th></th>\n",
              "    </tr>\n",
              "  </thead>\n",
              "  <tbody>\n",
              "    <tr>\n",
              "      <th>North America and ANZ</th>\n",
              "      <td>4.0</td>\n",
              "      <td>7.173525</td>\n",
              "      <td>0.159661</td>\n",
              "      <td>6.9396</td>\n",
              "      <td>7.152000</td>\n",
              "      <td>7.22745</td>\n",
              "      <td>7.248975</td>\n",
              "      <td>7.2996</td>\n",
              "    </tr>\n",
              "    <tr>\n",
              "      <th>Western Europe</th>\n",
              "      <td>21.0</td>\n",
              "      <td>6.899219</td>\n",
              "      <td>0.683212</td>\n",
              "      <td>5.5150</td>\n",
              "      <td>6.400900</td>\n",
              "      <td>7.09370</td>\n",
              "      <td>7.448900</td>\n",
              "      <td>7.8087</td>\n",
              "    </tr>\n",
              "    <tr>\n",
              "      <th>Latin America and Caribbean</th>\n",
              "      <td>21.0</td>\n",
              "      <td>5.981786</td>\n",
              "      <td>0.660213</td>\n",
              "      <td>3.7208</td>\n",
              "      <td>5.796800</td>\n",
              "      <td>6.13710</td>\n",
              "      <td>6.348300</td>\n",
              "      <td>7.1214</td>\n",
              "    </tr>\n",
              "    <tr>\n",
              "      <th>Central and Eastern Europe</th>\n",
              "      <td>17.0</td>\n",
              "      <td>5.883818</td>\n",
              "      <td>0.523486</td>\n",
              "      <td>4.8827</td>\n",
              "      <td>5.546100</td>\n",
              "      <td>6.00040</td>\n",
              "      <td>6.215500</td>\n",
              "      <td>6.9109</td>\n",
              "    </tr>\n",
              "    <tr>\n",
              "      <th>East Asia</th>\n",
              "      <td>6.0</td>\n",
              "      <td>5.714850</td>\n",
              "      <td>0.459451</td>\n",
              "      <td>5.1239</td>\n",
              "      <td>5.469750</td>\n",
              "      <td>5.69060</td>\n",
              "      <td>5.872000</td>\n",
              "      <td>6.4554</td>\n",
              "    </tr>\n",
              "    <tr>\n",
              "      <th>Southeast Asia</th>\n",
              "      <td>9.0</td>\n",
              "      <td>5.383367</td>\n",
              "      <td>0.656866</td>\n",
              "      <td>4.3080</td>\n",
              "      <td>4.888600</td>\n",
              "      <td>5.35350</td>\n",
              "      <td>5.998800</td>\n",
              "      <td>6.3771</td>\n",
              "    </tr>\n",
              "    <tr>\n",
              "      <th>Commonwealth of Independent States</th>\n",
              "      <td>12.0</td>\n",
              "      <td>5.358342</td>\n",
              "      <td>0.536527</td>\n",
              "      <td>4.5607</td>\n",
              "      <td>5.008525</td>\n",
              "      <td>5.54070</td>\n",
              "      <td>5.568650</td>\n",
              "      <td>6.2576</td>\n",
              "    </tr>\n",
              "    <tr>\n",
              "      <th>Middle East and North Africa</th>\n",
              "      <td>17.0</td>\n",
              "      <td>5.227159</td>\n",
              "      <td>0.988163</td>\n",
              "      <td>3.5274</td>\n",
              "      <td>4.633400</td>\n",
              "      <td>5.00510</td>\n",
              "      <td>6.102100</td>\n",
              "      <td>7.1286</td>\n",
              "    </tr>\n",
              "    <tr>\n",
              "      <th>South Asia</th>\n",
              "      <td>7.0</td>\n",
              "      <td>4.475443</td>\n",
              "      <td>1.083878</td>\n",
              "      <td>2.5669</td>\n",
              "      <td>3.950150</td>\n",
              "      <td>4.83280</td>\n",
              "      <td>5.167400</td>\n",
              "      <td>5.6933</td>\n",
              "    </tr>\n",
              "    <tr>\n",
              "      <th>Sub-Saharan Africa</th>\n",
              "      <td>39.0</td>\n",
              "      <td>4.383495</td>\n",
              "      <td>0.683051</td>\n",
              "      <td>2.8166</td>\n",
              "      <td>3.850850</td>\n",
              "      <td>4.43200</td>\n",
              "      <td>4.821700</td>\n",
              "      <td>6.1013</td>\n",
              "    </tr>\n",
              "  </tbody>\n",
              "</table>\n",
              "</div>"
            ],
            "text/plain": [
              "                                    count      mean  ...       75%     max\n",
              "Regional indicator                                   ...                  \n",
              "North America and ANZ                 4.0  7.173525  ...  7.248975  7.2996\n",
              "Western Europe                       21.0  6.899219  ...  7.448900  7.8087\n",
              "Latin America and Caribbean          21.0  5.981786  ...  6.348300  7.1214\n",
              "Central and Eastern Europe           17.0  5.883818  ...  6.215500  6.9109\n",
              "East Asia                             6.0  5.714850  ...  5.872000  6.4554\n",
              "Southeast Asia                        9.0  5.383367  ...  5.998800  6.3771\n",
              "Commonwealth of Independent States   12.0  5.358342  ...  5.568650  6.2576\n",
              "Middle East and North Africa         17.0  5.227159  ...  6.102100  7.1286\n",
              "South Asia                            7.0  4.475443  ...  5.167400  5.6933\n",
              "Sub-Saharan Africa                   39.0  4.383495  ...  4.821700  6.1013\n",
              "\n",
              "[10 rows x 8 columns]"
            ]
          },
          "metadata": {
            "tags": []
          },
          "execution_count": 4
        }
      ]
    },
    {
      "cell_type": "markdown",
      "metadata": {
        "id": "DqTxJ0u9Rb8n"
      },
      "source": [
        "The above table shows that **North Amercica and ANZ** has the highest happinness score with mean **7.173525** and **Sub-Saharan Africa** has the lowest score with mean **4.383495**."
      ]
    },
    {
      "cell_type": "code",
      "metadata": {
        "id": "7bb8ivwkPtDO"
      },
      "source": [
        "WHR_NAA = WHR[WHR['Regional indicator'] == 'North America and ANZ']\r\n",
        "WHR_WE = WHR[WHR['Regional indicator'] == 'Western Europe']\r\n",
        "WHR_LAC = WHR[WHR['Regional indicator'] == 'Latin America and Caribbean']\r\n",
        "WHR_CEE = WHR[WHR['Regional indicator'] == 'Central and Eastern Europe']\r\n",
        "WHR_EA = WHR[WHR['Regional indicator'] == 'East Asia']\r\n",
        "WHR_SA = WHR[WHR['Regional indicator'] == 'Southeast Asia']\r\n",
        "WHR_CIS = WHR[WHR['Regional indicator'] == 'Commonwealth of Independent States']\r\n",
        "WHR_MENA = WHR[WHR['Regional indicator'] == 'Middle East and North Africa']\r\n",
        "WHR_SA = WHR[WHR['Regional indicator'] == 'South Asia']\r\n",
        "WHR_SSA = WHR[WHR['Regional indicator'] == 'Sub-Saharan Africa']"
      ],
      "execution_count": null,
      "outputs": []
    },
    {
      "cell_type": "code",
      "metadata": {
        "colab": {
          "base_uri": "https://localhost:8080/"
        },
        "id": "h4aLeUZAUa-3",
        "outputId": "d2e834ca-2e3e-4c11-fd4b-94789a7ed246"
      },
      "source": [
        "len(WHR_SSA[WHR_SSA['Ladder score'] > 6])"
      ],
      "execution_count": null,
      "outputs": [
        {
          "output_type": "execute_result",
          "data": {
            "text/plain": [
              "1"
            ]
          },
          "metadata": {
            "tags": []
          },
          "execution_count": 48
        }
      ]
    },
    {
      "cell_type": "markdown",
      "metadata": {
        "id": "N6Wl9k6lW44k"
      },
      "source": [
        "Among **39** countires in **Sub-Saharan Africa**, there is only **1** country that have happinnes score above **6.0**"
      ]
    },
    {
      "cell_type": "code",
      "metadata": {
        "colab": {
          "base_uri": "https://localhost:8080/"
        },
        "id": "4pZ-A52pWw2D",
        "outputId": "69697c03-b66a-4f8f-ac27-4e377e4354b9"
      },
      "source": [
        "len(WHR_SA[WHR_SA['Ladder score'] > 6])"
      ],
      "execution_count": null,
      "outputs": [
        {
          "output_type": "execute_result",
          "data": {
            "text/plain": [
              "0"
            ]
          },
          "metadata": {
            "tags": []
          },
          "execution_count": 49
        }
      ]
    },
    {
      "cell_type": "markdown",
      "metadata": {
        "id": "ZatKWmwoXc6a"
      },
      "source": [
        "Among **7** countires in **South Asia**, there are **0** countries that have happinnes score above **6.0**"
      ]
    },
    {
      "cell_type": "code",
      "metadata": {
        "colab": {
          "base_uri": "https://localhost:8080/"
        },
        "id": "GsbswqAJXb0D",
        "outputId": "2a506e45-bba0-4c1e-c89a-2b6d3f368e3a"
      },
      "source": [
        "len(WHR_WE[WHR_WE['Ladder score'] > 6])"
      ],
      "execution_count": null,
      "outputs": [
        {
          "output_type": "execute_result",
          "data": {
            "text/plain": [
              "18"
            ]
          },
          "metadata": {
            "tags": []
          },
          "execution_count": 50
        }
      ]
    },
    {
      "cell_type": "markdown",
      "metadata": {
        "id": "9w_XbRr8X171"
      },
      "source": [
        "Among **21** countires in **Western Europe**, there are **18** countries that have happinnes score above **6.0**"
      ]
    },
    {
      "cell_type": "code",
      "metadata": {
        "colab": {
          "base_uri": "https://localhost:8080/"
        },
        "id": "mIH1mGeLX00b",
        "outputId": "4ec4c313-77d7-43d5-dc60-e89b47aa6c26"
      },
      "source": [
        "len(WHR_NAA[WHR_NAA['Ladder score'] > 6])"
      ],
      "execution_count": null,
      "outputs": [
        {
          "output_type": "execute_result",
          "data": {
            "text/plain": [
              "4"
            ]
          },
          "metadata": {
            "tags": []
          },
          "execution_count": 51
        }
      ]
    },
    {
      "cell_type": "markdown",
      "metadata": {
        "id": "hiTchPJ5YD7E"
      },
      "source": [
        "Among **4** countires in **North America and ANZ**, all the countries that have happinnes score above **6.0**"
      ]
    },
    {
      "cell_type": "code",
      "metadata": {
        "colab": {
          "base_uri": "https://localhost:8080/"
        },
        "id": "0QHOEFI0YCDz",
        "outputId": "7a3b5327-0853-45a5-df3f-7d756f056503"
      },
      "source": [
        "Delta_NAA = WHR_NAA.max(axis=0)['Ladder score'] - WHR_NAA.min(axis=0)['Ladder score']\r\n",
        "print(Delta_NAA)"
      ],
      "execution_count": null,
      "outputs": [
        {
          "output_type": "stream",
          "text": [
            "0.3600001329999989\n"
          ],
          "name": "stdout"
        }
      ]
    },
    {
      "cell_type": "markdown",
      "metadata": {
        "id": "G-6ssAyPaWNc"
      },
      "source": [
        "The difference between the maximum and the minimum value of happiness score of **North America and ANZ** is **0.3600001329999989**."
      ]
    },
    {
      "cell_type": "code",
      "metadata": {
        "colab": {
          "base_uri": "https://localhost:8080/"
        },
        "id": "-o8WAg5jaUV8",
        "outputId": "e916e692-dd40-419f-b91a-6f501d968199"
      },
      "source": [
        "Delta_WE = WHR_WE.max(axis=0)['Ladder score'] - WHR_WE.min(axis=0)['Ladder score']\r\n",
        "print(Delta_WE)"
      ],
      "execution_count": null,
      "outputs": [
        {
          "output_type": "stream",
          "text": [
            "2.2937002189999998\n"
          ],
          "name": "stdout"
        }
      ]
    },
    {
      "cell_type": "markdown",
      "metadata": {
        "id": "lilIRSQCauFS"
      },
      "source": [
        "The difference between the maximum and the minimum value of happiness score of **Western Europe** is **2.2937002189999998**."
      ]
    },
    {
      "cell_type": "code",
      "metadata": {
        "colab": {
          "base_uri": "https://localhost:8080/"
        },
        "id": "3cnKnAPHatGL",
        "outputId": "87471ae4-3e93-453f-868a-d81b7c6b8795"
      },
      "source": [
        "Delta_SA = WHR_SA.max(axis=0)['Ladder score'] - WHR_SA.min(axis=0)['Ladder score']\r\n",
        "print(Delta_SA)"
      ],
      "execution_count": null,
      "outputs": [
        {
          "output_type": "stream",
          "text": [
            "3.1263997550000004\n"
          ],
          "name": "stdout"
        }
      ]
    },
    {
      "cell_type": "markdown",
      "metadata": {
        "id": "g4b8thr8bD2M"
      },
      "source": [
        "The difference between the maximum and the minimum value of happiness score of **South Asia** is **3.1263997550000004**."
      ]
    },
    {
      "cell_type": "code",
      "metadata": {
        "colab": {
          "base_uri": "https://localhost:8080/"
        },
        "id": "Nc-JwZ_sbCEa",
        "outputId": "4da1b1ea-bad0-42fa-e6eb-bdfe26c4769d"
      },
      "source": [
        "Delta_SSA = WHR_SSA.max(axis=0)['Ladder score'] - WHR_SSA.min(axis=0)['Ladder score']\r\n",
        "print(Delta_SSA)"
      ],
      "execution_count": null,
      "outputs": [
        {
          "output_type": "stream",
          "text": [
            "3.2846996789999996\n"
          ],
          "name": "stdout"
        }
      ]
    },
    {
      "cell_type": "markdown",
      "metadata": {
        "id": "mEY7aZcvbOBB"
      },
      "source": [
        "The difference between the maximum and the minimum value of happiness score of **Sub-Saharan Africa** is **3.2846996789999996**"
      ]
    },
    {
      "cell_type": "code",
      "metadata": {
        "colab": {
          "base_uri": "https://localhost:8080/",
          "height": 297
        },
        "id": "eqNyjxYeeEJ2",
        "outputId": "c9bf15c6-f141-4dd0-cd92-53339891427e"
      },
      "source": [
        "WHR.describe()"
      ],
      "execution_count": null,
      "outputs": [
        {
          "output_type": "execute_result",
          "data": {
            "text/html": [
              "<div>\n",
              "<style scoped>\n",
              "    .dataframe tbody tr th:only-of-type {\n",
              "        vertical-align: middle;\n",
              "    }\n",
              "\n",
              "    .dataframe tbody tr th {\n",
              "        vertical-align: top;\n",
              "    }\n",
              "\n",
              "    .dataframe thead th {\n",
              "        text-align: right;\n",
              "    }\n",
              "</style>\n",
              "<table border=\"1\" class=\"dataframe\">\n",
              "  <thead>\n",
              "    <tr style=\"text-align: right;\">\n",
              "      <th></th>\n",
              "      <th>Ladder score</th>\n",
              "      <th>Logged GDP per capita</th>\n",
              "      <th>Social support</th>\n",
              "      <th>Healthy life expectancy</th>\n",
              "      <th>Freedom to make life choices</th>\n",
              "      <th>Generosity</th>\n",
              "      <th>Perceptions of corruption</th>\n",
              "    </tr>\n",
              "  </thead>\n",
              "  <tbody>\n",
              "    <tr>\n",
              "      <th>count</th>\n",
              "      <td>153.00000</td>\n",
              "      <td>153.000000</td>\n",
              "      <td>153.000000</td>\n",
              "      <td>153.000000</td>\n",
              "      <td>153.000000</td>\n",
              "      <td>153.000000</td>\n",
              "      <td>153.000000</td>\n",
              "    </tr>\n",
              "    <tr>\n",
              "      <th>mean</th>\n",
              "      <td>5.47324</td>\n",
              "      <td>9.295706</td>\n",
              "      <td>0.808721</td>\n",
              "      <td>64.445529</td>\n",
              "      <td>0.783360</td>\n",
              "      <td>-0.014568</td>\n",
              "      <td>0.733120</td>\n",
              "    </tr>\n",
              "    <tr>\n",
              "      <th>std</th>\n",
              "      <td>1.11227</td>\n",
              "      <td>1.201588</td>\n",
              "      <td>0.121453</td>\n",
              "      <td>7.057848</td>\n",
              "      <td>0.117786</td>\n",
              "      <td>0.151809</td>\n",
              "      <td>0.175172</td>\n",
              "    </tr>\n",
              "    <tr>\n",
              "      <th>min</th>\n",
              "      <td>2.56690</td>\n",
              "      <td>6.492642</td>\n",
              "      <td>0.319460</td>\n",
              "      <td>45.200001</td>\n",
              "      <td>0.396573</td>\n",
              "      <td>-0.300907</td>\n",
              "      <td>0.109784</td>\n",
              "    </tr>\n",
              "    <tr>\n",
              "      <th>25%</th>\n",
              "      <td>4.72410</td>\n",
              "      <td>8.350645</td>\n",
              "      <td>0.737217</td>\n",
              "      <td>58.961712</td>\n",
              "      <td>0.714839</td>\n",
              "      <td>-0.127015</td>\n",
              "      <td>0.683019</td>\n",
              "    </tr>\n",
              "    <tr>\n",
              "      <th>50%</th>\n",
              "      <td>5.51500</td>\n",
              "      <td>9.456313</td>\n",
              "      <td>0.829204</td>\n",
              "      <td>66.305145</td>\n",
              "      <td>0.799805</td>\n",
              "      <td>-0.033665</td>\n",
              "      <td>0.783122</td>\n",
              "    </tr>\n",
              "    <tr>\n",
              "      <th>75%</th>\n",
              "      <td>6.22850</td>\n",
              "      <td>10.265124</td>\n",
              "      <td>0.906747</td>\n",
              "      <td>69.289192</td>\n",
              "      <td>0.877709</td>\n",
              "      <td>0.085429</td>\n",
              "      <td>0.849151</td>\n",
              "    </tr>\n",
              "    <tr>\n",
              "      <th>max</th>\n",
              "      <td>7.80870</td>\n",
              "      <td>11.450681</td>\n",
              "      <td>0.974670</td>\n",
              "      <td>76.804581</td>\n",
              "      <td>0.974998</td>\n",
              "      <td>0.560664</td>\n",
              "      <td>0.935585</td>\n",
              "    </tr>\n",
              "  </tbody>\n",
              "</table>\n",
              "</div>"
            ],
            "text/plain": [
              "       Ladder score  ...  Perceptions of corruption\n",
              "count     153.00000  ...                 153.000000\n",
              "mean        5.47324  ...                   0.733120\n",
              "std         1.11227  ...                   0.175172\n",
              "min         2.56690  ...                   0.109784\n",
              "25%         4.72410  ...                   0.683019\n",
              "50%         5.51500  ...                   0.783122\n",
              "75%         6.22850  ...                   0.849151\n",
              "max         7.80870  ...                   0.935585\n",
              "\n",
              "[8 rows x 7 columns]"
            ]
          },
          "metadata": {
            "tags": []
          },
          "execution_count": 69
        }
      ]
    },
    {
      "cell_type": "code",
      "metadata": {
        "colab": {
          "base_uri": "https://localhost:8080/",
          "height": 390
        },
        "id": "DLvcUHp3dlQG",
        "outputId": "a44bd97f-7ac9-4269-a640-2dda3f4eb612"
      },
      "source": [
        "X=WHR_Region['Ladder score']\r\n",
        "X.describe()"
      ],
      "execution_count": null,
      "outputs": [
        {
          "output_type": "execute_result",
          "data": {
            "text/html": [
              "<div>\n",
              "<style scoped>\n",
              "    .dataframe tbody tr th:only-of-type {\n",
              "        vertical-align: middle;\n",
              "    }\n",
              "\n",
              "    .dataframe tbody tr th {\n",
              "        vertical-align: top;\n",
              "    }\n",
              "\n",
              "    .dataframe thead th {\n",
              "        text-align: right;\n",
              "    }\n",
              "</style>\n",
              "<table border=\"1\" class=\"dataframe\">\n",
              "  <thead>\n",
              "    <tr style=\"text-align: right;\">\n",
              "      <th></th>\n",
              "      <th>count</th>\n",
              "      <th>mean</th>\n",
              "      <th>std</th>\n",
              "      <th>min</th>\n",
              "      <th>25%</th>\n",
              "      <th>50%</th>\n",
              "      <th>75%</th>\n",
              "      <th>max</th>\n",
              "    </tr>\n",
              "    <tr>\n",
              "      <th>Regional indicator</th>\n",
              "      <th></th>\n",
              "      <th></th>\n",
              "      <th></th>\n",
              "      <th></th>\n",
              "      <th></th>\n",
              "      <th></th>\n",
              "      <th></th>\n",
              "      <th></th>\n",
              "    </tr>\n",
              "  </thead>\n",
              "  <tbody>\n",
              "    <tr>\n",
              "      <th>Central and Eastern Europe</th>\n",
              "      <td>17.0</td>\n",
              "      <td>5.883818</td>\n",
              "      <td>0.523486</td>\n",
              "      <td>4.8827</td>\n",
              "      <td>5.546100</td>\n",
              "      <td>6.00040</td>\n",
              "      <td>6.215500</td>\n",
              "      <td>6.9109</td>\n",
              "    </tr>\n",
              "    <tr>\n",
              "      <th>Commonwealth of Independent States</th>\n",
              "      <td>12.0</td>\n",
              "      <td>5.358342</td>\n",
              "      <td>0.536527</td>\n",
              "      <td>4.5607</td>\n",
              "      <td>5.008525</td>\n",
              "      <td>5.54070</td>\n",
              "      <td>5.568650</td>\n",
              "      <td>6.2576</td>\n",
              "    </tr>\n",
              "    <tr>\n",
              "      <th>East Asia</th>\n",
              "      <td>6.0</td>\n",
              "      <td>5.714850</td>\n",
              "      <td>0.459451</td>\n",
              "      <td>5.1239</td>\n",
              "      <td>5.469750</td>\n",
              "      <td>5.69060</td>\n",
              "      <td>5.872000</td>\n",
              "      <td>6.4554</td>\n",
              "    </tr>\n",
              "    <tr>\n",
              "      <th>Latin America and Caribbean</th>\n",
              "      <td>21.0</td>\n",
              "      <td>5.981786</td>\n",
              "      <td>0.660213</td>\n",
              "      <td>3.7208</td>\n",
              "      <td>5.796800</td>\n",
              "      <td>6.13710</td>\n",
              "      <td>6.348300</td>\n",
              "      <td>7.1214</td>\n",
              "    </tr>\n",
              "    <tr>\n",
              "      <th>Middle East and North Africa</th>\n",
              "      <td>17.0</td>\n",
              "      <td>5.227159</td>\n",
              "      <td>0.988163</td>\n",
              "      <td>3.5274</td>\n",
              "      <td>4.633400</td>\n",
              "      <td>5.00510</td>\n",
              "      <td>6.102100</td>\n",
              "      <td>7.1286</td>\n",
              "    </tr>\n",
              "    <tr>\n",
              "      <th>North America and ANZ</th>\n",
              "      <td>4.0</td>\n",
              "      <td>7.173525</td>\n",
              "      <td>0.159661</td>\n",
              "      <td>6.9396</td>\n",
              "      <td>7.152000</td>\n",
              "      <td>7.22745</td>\n",
              "      <td>7.248975</td>\n",
              "      <td>7.2996</td>\n",
              "    </tr>\n",
              "    <tr>\n",
              "      <th>South Asia</th>\n",
              "      <td>7.0</td>\n",
              "      <td>4.475443</td>\n",
              "      <td>1.083878</td>\n",
              "      <td>2.5669</td>\n",
              "      <td>3.950150</td>\n",
              "      <td>4.83280</td>\n",
              "      <td>5.167400</td>\n",
              "      <td>5.6933</td>\n",
              "    </tr>\n",
              "    <tr>\n",
              "      <th>Southeast Asia</th>\n",
              "      <td>9.0</td>\n",
              "      <td>5.383367</td>\n",
              "      <td>0.656866</td>\n",
              "      <td>4.3080</td>\n",
              "      <td>4.888600</td>\n",
              "      <td>5.35350</td>\n",
              "      <td>5.998800</td>\n",
              "      <td>6.3771</td>\n",
              "    </tr>\n",
              "    <tr>\n",
              "      <th>Sub-Saharan Africa</th>\n",
              "      <td>39.0</td>\n",
              "      <td>4.383495</td>\n",
              "      <td>0.683051</td>\n",
              "      <td>2.8166</td>\n",
              "      <td>3.850850</td>\n",
              "      <td>4.43200</td>\n",
              "      <td>4.821700</td>\n",
              "      <td>6.1013</td>\n",
              "    </tr>\n",
              "    <tr>\n",
              "      <th>Western Europe</th>\n",
              "      <td>21.0</td>\n",
              "      <td>6.899219</td>\n",
              "      <td>0.683212</td>\n",
              "      <td>5.5150</td>\n",
              "      <td>6.400900</td>\n",
              "      <td>7.09370</td>\n",
              "      <td>7.448900</td>\n",
              "      <td>7.8087</td>\n",
              "    </tr>\n",
              "  </tbody>\n",
              "</table>\n",
              "</div>"
            ],
            "text/plain": [
              "                                    count      mean  ...       75%     max\n",
              "Regional indicator                                   ...                  \n",
              "Central and Eastern Europe           17.0  5.883818  ...  6.215500  6.9109\n",
              "Commonwealth of Independent States   12.0  5.358342  ...  5.568650  6.2576\n",
              "East Asia                             6.0  5.714850  ...  5.872000  6.4554\n",
              "Latin America and Caribbean          21.0  5.981786  ...  6.348300  7.1214\n",
              "Middle East and North Africa         17.0  5.227159  ...  6.102100  7.1286\n",
              "North America and ANZ                 4.0  7.173525  ...  7.248975  7.2996\n",
              "South Asia                            7.0  4.475443  ...  5.167400  5.6933\n",
              "Southeast Asia                        9.0  5.383367  ...  5.998800  6.3771\n",
              "Sub-Saharan Africa                   39.0  4.383495  ...  4.821700  6.1013\n",
              "Western Europe                       21.0  6.899219  ...  7.448900  7.8087\n",
              "\n",
              "[10 rows x 8 columns]"
            ]
          },
          "metadata": {
            "tags": []
          },
          "execution_count": 71
        }
      ]
    },
    {
      "cell_type": "markdown",
      "metadata": {
        "id": "KtI6d1Ejibgu"
      },
      "source": [
        "## Plotting histogram"
      ]
    },
    {
      "cell_type": "markdown",
      "metadata": {
        "id": "4E1CHO2TigFU"
      },
      "source": [
        "### North America and ANZ"
      ]
    },
    {
      "cell_type": "code",
      "metadata": {
        "colab": {
          "base_uri": "https://localhost:8080/",
          "height": 282
        },
        "id": "QkZOEbmBhVYm",
        "outputId": "ce69f9e3-7acc-448f-c968-4a69989779cb"
      },
      "source": [
        "WHR_NAA['Ladder score'].hist()\r\n"
      ],
      "execution_count": null,
      "outputs": [
        {
          "output_type": "execute_result",
          "data": {
            "text/plain": [
              "<matplotlib.axes._subplots.AxesSubplot at 0x7f49c5021f60>"
            ]
          },
          "metadata": {
            "tags": []
          },
          "execution_count": 96
        },
        {
          "output_type": "display_data",
          "data": {
            "image/png": "[encoded data removed]",
            "text/plain": [
              "<Figure size 432x288 with 1 Axes>"
            ]
          },
          "metadata": {
            "tags": [],
            "needs_background": "light"
          }
        }
      ]
    },
    {
      "cell_type": "markdown",
      "metadata": {
        "id": "f0Fk_k4yiqLc"
      },
      "source": [
        "### Western Europe"
      ]
    },
    {
      "cell_type": "code",
      "metadata": {
        "colab": {
          "base_uri": "https://localhost:8080/",
          "height": 282
        },
        "id": "Q0og31KliIG3",
        "outputId": "87a8cd74-8e61-4084-b4a9-58c6cdabc8dc"
      },
      "source": [
        "WHR_WE['Ladder score'].hist() \r\n"
      ],
      "execution_count": null,
      "outputs": [
        {
          "output_type": "execute_result",
          "data": {
            "text/plain": [
              "<matplotlib.axes._subplots.AxesSubplot at 0x7f49c4e739e8>"
            ]
          },
          "metadata": {
            "tags": []
          },
          "execution_count": 97
        },
        {
          "output_type": "display_data",
          "data": {
            "image/png": "[encoded data removed]",
            "text/plain": [
              "<Figure size 432x288 with 1 Axes>"
            ]
          },
          "metadata": {
            "tags": [],
            "needs_background": "light"
          }
        }
      ]
    },
    {
      "cell_type": "markdown",
      "metadata": {
        "id": "mG0BYFHri1hu"
      },
      "source": [
        "### Latin America and Caribbean"
      ]
    },
    {
      "cell_type": "code",
      "metadata": {
        "colab": {
          "base_uri": "https://localhost:8080/",
          "height": 282
        },
        "id": "-lUG1xQDiKPs",
        "outputId": "3595e7b5-eb6a-4ae1-8a40-b017f7906d2e"
      },
      "source": [
        "WHR_LAC['Ladder score'].hist() \r\n"
      ],
      "execution_count": null,
      "outputs": [
        {
          "output_type": "execute_result",
          "data": {
            "text/plain": [
              "<matplotlib.axes._subplots.AxesSubplot at 0x7f49c4d9e5f8>"
            ]
          },
          "metadata": {
            "tags": []
          },
          "execution_count": 98
        },
        {
          "output_type": "display_data",
          "data": {
            "image/png": "[encoded data removed]",
            "text/plain": [
              "<Figure size 432x288 with 1 Axes>"
            ]
          },
          "metadata": {
            "tags": [],
            "needs_background": "light"
          }
        }
      ]
    },
    {
      "cell_type": "markdown",
      "metadata": {
        "id": "-mc-roAzkRYV"
      },
      "source": [
        "### Central and Eastern Europe"
      ]
    },
    {
      "cell_type": "code",
      "metadata": {
        "colab": {
          "base_uri": "https://localhost:8080/",
          "height": 282
        },
        "id": "VIQeXybNkRDl",
        "outputId": "c6271976-7b80-4420-c17f-eb53f02269fd"
      },
      "source": [
        "WHR_CEE['Ladder score'].hist() "
      ],
      "execution_count": null,
      "outputs": [
        {
          "output_type": "execute_result",
          "data": {
            "text/plain": [
              "<matplotlib.axes._subplots.AxesSubplot at 0x7f49c5081390>"
            ]
          },
          "metadata": {
            "tags": []
          },
          "execution_count": 106
        },
        {
          "output_type": "display_data",
          "data": {
            "image/png": "[encoded data removed]",
            "text/plain": [
              "<Figure size 432x288 with 1 Axes>"
            ]
          },
          "metadata": {
            "tags": [],
            "needs_background": "light"
          }
        }
      ]
    },
    {
      "cell_type": "markdown",
      "metadata": {
        "id": "6JId0faxi_HA"
      },
      "source": [
        "### East Asia"
      ]
    },
    {
      "cell_type": "code",
      "metadata": {
        "colab": {
          "base_uri": "https://localhost:8080/",
          "height": 282
        },
        "id": "nk2m1ljRiMBl",
        "outputId": "749d5082-f6d1-4815-906e-d6b66859402e"
      },
      "source": [
        "WHR_EA['Ladder score'].hist() \r\n"
      ],
      "execution_count": null,
      "outputs": [
        {
          "output_type": "execute_result",
          "data": {
            "text/plain": [
              "<matplotlib.axes._subplots.AxesSubplot at 0x7f49c4d3bd68>"
            ]
          },
          "metadata": {
            "tags": []
          },
          "execution_count": 99
        },
        {
          "output_type": "display_data",
          "data": {
            "image/png": "[encoded data removed]",
            "text/plain": [
              "<Figure size 432x288 with 1 Axes>"
            ]
          },
          "metadata": {
            "tags": [],
            "needs_background": "light"
          }
        }
      ]
    },
    {
      "cell_type": "markdown",
      "metadata": {
        "id": "alssuOENjGi0"
      },
      "source": [
        "### Southeast Asia"
      ]
    },
    {
      "cell_type": "code",
      "metadata": {
        "colab": {
          "base_uri": "https://localhost:8080/",
          "height": 282
        },
        "id": "XKM40TAkiN3t",
        "outputId": "c7f8564a-ccba-4d68-d2d8-bd8262c2a0fa"
      },
      "source": [
        "WHR_SA['Ladder score'].hist() \r\n"
      ],
      "execution_count": null,
      "outputs": [
        {
          "output_type": "execute_result",
          "data": {
            "text/plain": [
              "<matplotlib.axes._subplots.AxesSubplot at 0x7f49c4d194a8>"
            ]
          },
          "metadata": {
            "tags": []
          },
          "execution_count": 100
        },
        {
          "output_type": "display_data",
          "data": {
            "image/png": "[encoded data removed]",
            "text/plain": [
              "<Figure size 432x288 with 1 Axes>"
            ]
          },
          "metadata": {
            "tags": [],
            "needs_background": "light"
          }
        }
      ]
    },
    {
      "cell_type": "markdown",
      "metadata": {
        "id": "uZOo2EGzjKTu"
      },
      "source": [
        "### Commonwealth of Independent States"
      ]
    },
    {
      "cell_type": "code",
      "metadata": {
        "colab": {
          "base_uri": "https://localhost:8080/",
          "height": 282
        },
        "id": "2Fg2w-16iPvs",
        "outputId": "c79428b2-4cd5-491b-be76-12539f84e31b"
      },
      "source": [
        "WHR_CIS['Ladder score'].hist() \r\n"
      ],
      "execution_count": null,
      "outputs": [
        {
          "output_type": "execute_result",
          "data": {
            "text/plain": [
              "<matplotlib.axes._subplots.AxesSubplot at 0x7f49c4c92898>"
            ]
          },
          "metadata": {
            "tags": []
          },
          "execution_count": 101
        },
        {
          "output_type": "display_data",
          "data": {
            "image/png": "[encoded data removed]",
            "text/plain": [
              "<Figure size 432x288 with 1 Axes>"
            ]
          },
          "metadata": {
            "tags": [],
            "needs_background": "light"
          }
        }
      ]
    },
    {
      "cell_type": "markdown",
      "metadata": {
        "id": "Ydv5AAcBjOwT"
      },
      "source": [
        "### Middle East and North Africa"
      ]
    },
    {
      "cell_type": "code",
      "metadata": {
        "colab": {
          "base_uri": "https://localhost:8080/",
          "height": 282
        },
        "id": "ZfIFSKn1iRkM",
        "outputId": "0b3bdbb9-b729-4b4e-f5cd-b3e4b6736609"
      },
      "source": [
        "WHR_MENA['Ladder score'].hist() \r\n"
      ],
      "execution_count": null,
      "outputs": [
        {
          "output_type": "execute_result",
          "data": {
            "text/plain": [
              "<matplotlib.axes._subplots.AxesSubplot at 0x7f49c534ce80>"
            ]
          },
          "metadata": {
            "tags": []
          },
          "execution_count": 102
        },
        {
          "output_type": "display_data",
          "data": {
            "image/png": "[encoded data removed]",
            "text/plain": [
              "<Figure size 432x288 with 1 Axes>"
            ]
          },
          "metadata": {
            "tags": [],
            "needs_background": "light"
          }
        }
      ]
    },
    {
      "cell_type": "markdown",
      "metadata": {
        "id": "ex_P1-9AjTN9"
      },
      "source": [
        "### South Asia"
      ]
    },
    {
      "cell_type": "code",
      "metadata": {
        "colab": {
          "base_uri": "https://localhost:8080/",
          "height": 282
        },
        "id": "8EeVLEO7iSzf",
        "outputId": "41c970ad-0d91-4283-f51e-b44101fce37d"
      },
      "source": [
        "WHR_SA['Ladder score'].hist() \r\n"
      ],
      "execution_count": null,
      "outputs": [
        {
          "output_type": "execute_result",
          "data": {
            "text/plain": [
              "<matplotlib.axes._subplots.AxesSubplot at 0x7f49c50a02b0>"
            ]
          },
          "metadata": {
            "tags": []
          },
          "execution_count": 103
        },
        {
          "output_type": "display_data",
          "data": {
            "image/png": "[encoded data removed]",
            "text/plain": [
              "<Figure size 432x288 with 1 Axes>"
            ]
          },
          "metadata": {
            "tags": [],
            "needs_background": "light"
          }
        }
      ]
    },
    {
      "cell_type": "markdown",
      "metadata": {
        "id": "AylDhcxdjc68"
      },
      "source": [
        "### Sub-Saharan Africa"
      ]
    },
    {
      "cell_type": "code",
      "metadata": {
        "colab": {
          "base_uri": "https://localhost:8080/",
          "height": 282
        },
        "id": "vmh0fg_yiUR8",
        "outputId": "5ce0861f-ec59-4e66-b6a7-82f9733a113b"
      },
      "source": [
        "WHR_SSA['Ladder score'].hist() "
      ],
      "execution_count": null,
      "outputs": [
        {
          "output_type": "execute_result",
          "data": {
            "text/plain": [
              "<matplotlib.axes._subplots.AxesSubplot at 0x7f49c4adc710>"
            ]
          },
          "metadata": {
            "tags": []
          },
          "execution_count": 104
        },
        {
          "output_type": "display_data",
          "data": {
            "image/png": "[encoded data removed]",
            "text/plain": [
              "<Figure size 432x288 with 1 Axes>"
            ]
          },
          "metadata": {
            "tags": [],
            "needs_background": "light"
          }
        }
      ]
    },
    {
      "cell_type": "markdown",
      "metadata": {
        "id": "gnsQXE9xc6Qm"
      },
      "source": [
        "## Individual effectness"
      ]
    },
    {
      "cell_type": "markdown",
      "metadata": {
        "id": "hEQlRL3Jk7Iu"
      },
      "source": [
        "### Logged GDP per capita"
      ]
    },
    {
      "cell_type": "markdown",
      "metadata": {
        "id": "4Ltm-xxDlNMb"
      },
      "source": [
        "#### Hsitogram of Logged GDP per capita"
      ]
    },
    {
      "cell_type": "code",
      "metadata": {
        "id": "fjwYTVCGkn75"
      },
      "source": [
        "WHR['Logged GDP per capita'].hist()"
      ],
      "execution_count": null,
      "outputs": []
    },
    {
      "cell_type": "markdown",
      "metadata": {
        "id": "cI9S6lUclR60"
      },
      "source": [
        "#### Scatter plot of Happiness score(pairwise)"
      ]
    },
    {
      "cell_type": "code",
      "metadata": {
        "id": "9aSYzWTak2FT"
      },
      "source": [
        "sns.pairplot(data=WHR, kind='reg', height = 5,\r\n",
        "                  x_vars=['Ladder score'],\r\n",
        "                  y_vars= ['Social support',  'Logged GDP per capita', 'Social support', 'Healthy life expectancy', 'Freedom to make life choices', 'Generosity', 'Perceptions of corruption'])"
      ],
      "execution_count": null,
      "outputs": []
    },
    {
      "cell_type": "code",
      "metadata": {
        "id": "CwQcDhQgmqSi"
      },
      "source": [
        "sns.pairplot(data=WHR, height = 5, hue='Regional indicator',\r\n",
        "                  x_vars=['Ladder score'],\r\n",
        "                  y_vars= ['Social support',  'Logged GDP per capita', 'Social support', 'Healthy life expectancy', 'Freedom to make life choices', 'Generosity', 'Perceptions of corruption'])"
      ],
      "execution_count": null,
      "outputs": []
    },
    {
      "cell_type": "markdown",
      "metadata": {
        "id": "Qq591g-BqYxi"
      },
      "source": [
        "### Logged GDP per capita"
      ]
    },
    {
      "cell_type": "code",
      "metadata": {
        "colab": {
          "base_uri": "https://localhost:8080/",
          "height": 281
        },
        "id": "ggQHjfdop0CS",
        "outputId": "32d97b25-6e52-4bf1-b60f-694f4f5a540b"
      },
      "source": [
        "# get coeffs of linear fit\r\n",
        "slope, intercept, r_value, p_value, std_err = stats.linregress(WHR['Logged GDP per capita'],WHR['Ladder score'])\r\n",
        "\r\n",
        "# use line_kws to set line label for legend\r\n",
        "ax = sns.regplot(x=\"Logged GDP per capita\", y=\"Ladder score\", data=WHR, color='b', \r\n",
        " line_kws={'label':\"y={0:.1f}x+{1:.1f}\".format(slope,intercept)})\r\n",
        "\r\n",
        "# plot legend\r\n",
        "ax.legend()\r\n",
        "\r\n",
        "plt.show()"
      ],
      "execution_count": null,
      "outputs": [
        {
          "output_type": "display_data",
          "data": {
            "image/png": "[encoded data removed]",
            "text/plain": [
              "<Figure size 432x288 with 1 Axes>"
            ]
          },
          "metadata": {
            "tags": [],
            "needs_background": "light"
          }
        }
      ]
    },
    {
      "cell_type": "markdown",
      "metadata": {
        "id": "OzykcdLHcQJn"
      },
      "source": [
        "The **Logged GDP per capita** is proportional to the **Happinness Score**. The slope of the above graph is **0.7**, which implies that a unit increase in **Logged GDP per capita** increase **Happinness Score** by 0.7 units.  "
      ]
    },
    {
      "cell_type": "markdown",
      "metadata": {
        "id": "EfgnNrveqcj7"
      },
      "source": [
        "### Social support"
      ]
    },
    {
      "cell_type": "code",
      "metadata": {
        "colab": {
          "base_uri": "https://localhost:8080/",
          "height": 279
        },
        "id": "LgZeD9vorEWX",
        "outputId": "a9c389d3-796c-43f9-a9c2-e564a4985efe"
      },
      "source": [
        "# get coeffs of linear fit\r\n",
        "slope, intercept, r_value, p_value, std_err = stats.linregress(WHR['Social support'],WHR['Ladder score'])\r\n",
        "\r\n",
        "# use line_kws to set line label for legend\r\n",
        "ax = sns.regplot(x=\"Social support\", y=\"Ladder score\", data=WHR, color='b', \r\n",
        " line_kws={'label':\"y={0:.1f}x+{1:.1f}\".format(slope,intercept)})\r\n",
        "\r\n",
        "# plot legend\r\n",
        "ax.legend()\r\n",
        "\r\n",
        "plt.show()"
      ],
      "execution_count": null,
      "outputs": [
        {
          "output_type": "display_data",
          "data": {
            "image/png": "[encoded data removed]",
            "text/plain": [
              "<Figure size 432x288 with 1 Axes>"
            ]
          },
          "metadata": {
            "tags": [],
            "needs_background": "light"
          }
        }
      ]
    },
    {
      "cell_type": "markdown",
      "metadata": {
        "id": "CKy8mOJtdeVP"
      },
      "source": [
        "The **Social support** is proportional to the **Happinness Score**. The slope of the above graph is **7.0**, which implies that a unit increase in **Social support** increase **Happinness Score** by 7.0 units.  "
      ]
    },
    {
      "cell_type": "markdown",
      "metadata": {
        "id": "sWO0VScWrSiT"
      },
      "source": [
        "### Healthy life expectancy"
      ]
    },
    {
      "cell_type": "code",
      "metadata": {
        "colab": {
          "base_uri": "https://localhost:8080/",
          "height": 281
        },
        "id": "P2TH2TDIrSiU",
        "outputId": "894cb318-e488-43a2-b20c-fe631942bd27"
      },
      "source": [
        "# get coeffs of linear fit\r\n",
        "slope, intercept, r_value, p_value, std_err = stats.linregress(WHR['Healthy life expectancy'],WHR['Ladder score'])\r\n",
        "\r\n",
        "# use line_kws to set line label for legend\r\n",
        "ax = sns.regplot(x=\"Healthy life expectancy\", y=\"Ladder score\", data=WHR, color='b', \r\n",
        " line_kws={'label':\"y={0:.1f}x+{1:.1f}\".format(slope,intercept)})\r\n",
        "\r\n",
        "# plot legend\r\n",
        "ax.legend()\r\n",
        "\r\n",
        "plt.show()"
      ],
      "execution_count": null,
      "outputs": [
        {
          "output_type": "display_data",
          "data": {
            "image/png": "[encoded data removed]",
            "text/plain": [
              "<Figure size 432x288 with 1 Axes>"
            ]
          },
          "metadata": {
            "tags": [],
            "needs_background": "light"
          }
        }
      ]
    },
    {
      "cell_type": "markdown",
      "metadata": {
        "id": "VVJAbhL-eGBm"
      },
      "source": [
        "The **Healthy life expectancy** is proportional to the **Happinness Score**. The slope of the above graph is **0.1**, which implies that a unit increase in **Healthy life expectancy** increase **Happinness Score** by 0.1 units.  "
      ]
    },
    {
      "cell_type": "markdown",
      "metadata": {
        "id": "W2vP8oiTrel5"
      },
      "source": [
        "### Freedom to make life choices"
      ]
    },
    {
      "cell_type": "code",
      "metadata": {
        "colab": {
          "base_uri": "https://localhost:8080/",
          "height": 281
        },
        "id": "qo0-a5_trel7",
        "outputId": "06033a8d-80b1-4867-bd20-bc804b11fd3d"
      },
      "source": [
        "# get coeffs of linear fit\r\n",
        "slope, intercept, r_value, p_value, std_err = stats.linregress(WHR['Freedom to make life choices'],WHR['Ladder score'])\r\n",
        "\r\n",
        "# use line_kws to set line label for legend\r\n",
        "ax = sns.regplot(x=\"Freedom to make life choices\", y=\"Ladder score\", data=WHR, color='b', \r\n",
        " line_kws={'label':\"y={0:.1f}x+{1:.1f}\".format(slope,intercept)})\r\n",
        "\r\n",
        "# plot legend\r\n",
        "ax.legend()\r\n",
        "\r\n",
        "plt.show()"
      ],
      "execution_count": null,
      "outputs": [
        {
          "output_type": "display_data",
          "data": {
            "image/png": "[encoded data removed]",
            "text/plain": [
              "<Figure size 432x288 with 1 Axes>"
            ]
          },
          "metadata": {
            "tags": [],
            "needs_background": "light"
          }
        }
      ]
    },
    {
      "cell_type": "markdown",
      "metadata": {
        "id": "W02XAsPYfle4"
      },
      "source": [
        "The **Freedom to make life choices** is proportional to the **Happinness Score**. The slope of the above graph is **5.6**, which implies that a unit increase in **Freedom to make life choices** increase **Happinness Score** by 5.6 units.  "
      ]
    },
    {
      "cell_type": "markdown",
      "metadata": {
        "id": "gVaMDZgIr8JI"
      },
      "source": [
        "### Generosity"
      ]
    },
    {
      "cell_type": "code",
      "metadata": {
        "colab": {
          "base_uri": "https://localhost:8080/",
          "height": 281
        },
        "id": "DtT7S03Nr8Ja",
        "outputId": "dfefe200-2be1-4e7c-9a03-fa152227dcc2"
      },
      "source": [
        "# get coeffs of linear fit\r\n",
        "slope, intercept, r_value, p_value, std_err = stats.linregress(WHR['Generosity'],WHR['Ladder score'])\r\n",
        "\r\n",
        "# use line_kws to set line label for legend\r\n",
        "ax = sns.regplot(x=\"Generosity\", y=\"Ladder score\", data=WHR, color='b', \r\n",
        " line_kws={'label':\"y={0:.1f}x+{1:.1f}\".format(slope,intercept)})\r\n",
        "\r\n",
        "# plot legend\r\n",
        "ax.legend()\r\n",
        "\r\n",
        "plt.show()"
      ],
      "execution_count": null,
      "outputs": [
        {
          "output_type": "display_data",
          "data": {
            "image/png": "[encoded data removed]",
            "text/plain": [
              "<Figure size 432x288 with 1 Axes>"
            ]
          },
          "metadata": {
            "tags": [],
            "needs_background": "light"
          }
        }
      ]
    },
    {
      "cell_type": "markdown",
      "metadata": {
        "id": "nLDt7CjXf-jv"
      },
      "source": [
        "The **Generosity** is proportional to the **Happinness Score**. The slope of the above graph is **0.5**, which implies that a unit increase in **Generosity** increase **Happinness Score** by 0.5 units.  "
      ]
    },
    {
      "cell_type": "markdown",
      "metadata": {
        "id": "F-fb9jW7sFT9"
      },
      "source": [
        "### Perceptions of corruption"
      ]
    },
    {
      "cell_type": "code",
      "metadata": {
        "colab": {
          "base_uri": "https://localhost:8080/",
          "height": 281
        },
        "id": "QgqAXs40sFT-",
        "outputId": "27c64d58-bfd0-4f43-d80b-f2b6a8bf51ec"
      },
      "source": [
        "# get coeffs of linear fit\r\n",
        "slope, intercept, r_value, p_value, std_err = stats.linregress(WHR['Perceptions of corruption'],WHR['Ladder score'])\r\n",
        "\r\n",
        "# use line_kws to set line label for legend\r\n",
        "ax = sns.regplot(x=\"Perceptions of corruption\", y=\"Ladder score\", data=WHR, color='b', \r\n",
        " line_kws={'label':\"y={0:.1f}x+{1:.1f}\".format(slope,intercept)})\r\n",
        "\r\n",
        "# plot legend\r\n",
        "ax.legend()\r\n",
        "\r\n",
        "plt.show()"
      ],
      "execution_count": null,
      "outputs": [
        {
          "output_type": "display_data",
          "data": {
            "image/png": "[encoded data removed]",
            "text/plain": [
              "<Figure size 432x288 with 1 Axes>"
            ]
          },
          "metadata": {
            "tags": [],
            "needs_background": "light"
          }
        }
      ]
    },
    {
      "cell_type": "markdown",
      "metadata": {
        "id": "o1YClmnKgQ01"
      },
      "source": [
        "The **Perceptions of corruption** is inversely proportional to the **Happinness Score**. The slope of the above graph is **-2.7**, which implies that a unit increase in **Perceptions of corruption** decreases **Happinness Score** by -2.7 units.  "
      ]
    },
    {
      "cell_type": "markdown",
      "metadata": {
        "id": "wTt0e1Q2l6pE"
      },
      "source": [
        "## Correlation"
      ]
    },
    {
      "cell_type": "code",
      "metadata": {
        "id": "1SMzOnNKgiIE",
        "colab": {
          "base_uri": "https://localhost:8080/",
          "height": 351
        },
        "outputId": "9fb29519-f12d-45c1-b966-fa369b8e0df9"
      },
      "source": [
        "WHR.corr(method=\"pearson\", min_periods=20)"
      ],
      "execution_count": null,
      "outputs": [
        {
          "output_type": "execute_result",
          "data": {
            "text/html": [
              "<div>\n",
              "<style scoped>\n",
              "    .dataframe tbody tr th:only-of-type {\n",
              "        vertical-align: middle;\n",
              "    }\n",
              "\n",
              "    .dataframe tbody tr th {\n",
              "        vertical-align: top;\n",
              "    }\n",
              "\n",
              "    .dataframe thead th {\n",
              "        text-align: right;\n",
              "    }\n",
              "</style>\n",
              "<table border=\"1\" class=\"dataframe\">\n",
              "  <thead>\n",
              "    <tr style=\"text-align: right;\">\n",
              "      <th></th>\n",
              "      <th>Ladder score</th>\n",
              "      <th>Logged GDP per capita</th>\n",
              "      <th>Social support</th>\n",
              "      <th>Healthy life expectancy</th>\n",
              "      <th>Freedom to make life choices</th>\n",
              "      <th>Generosity</th>\n",
              "      <th>Perceptions of corruption</th>\n",
              "    </tr>\n",
              "  </thead>\n",
              "  <tbody>\n",
              "    <tr>\n",
              "      <th>Ladder score</th>\n",
              "      <td>1.000000</td>\n",
              "      <td>0.775374</td>\n",
              "      <td>0.765001</td>\n",
              "      <td>0.770316</td>\n",
              "      <td>0.590597</td>\n",
              "      <td>0.069043</td>\n",
              "      <td>-0.418305</td>\n",
              "    </tr>\n",
              "    <tr>\n",
              "      <th>Logged GDP per capita</th>\n",
              "      <td>0.775374</td>\n",
              "      <td>1.000000</td>\n",
              "      <td>0.781814</td>\n",
              "      <td>0.848469</td>\n",
              "      <td>0.419019</td>\n",
              "      <td>-0.118399</td>\n",
              "      <td>-0.334729</td>\n",
              "    </tr>\n",
              "    <tr>\n",
              "      <th>Social support</th>\n",
              "      <td>0.765001</td>\n",
              "      <td>0.781814</td>\n",
              "      <td>1.000000</td>\n",
              "      <td>0.742744</td>\n",
              "      <td>0.478863</td>\n",
              "      <td>-0.056780</td>\n",
              "      <td>-0.210530</td>\n",
              "    </tr>\n",
              "    <tr>\n",
              "      <th>Healthy life expectancy</th>\n",
              "      <td>0.770316</td>\n",
              "      <td>0.848469</td>\n",
              "      <td>0.742744</td>\n",
              "      <td>1.000000</td>\n",
              "      <td>0.448846</td>\n",
              "      <td>-0.071852</td>\n",
              "      <td>-0.353841</td>\n",
              "    </tr>\n",
              "    <tr>\n",
              "      <th>Freedom to make life choices</th>\n",
              "      <td>0.590597</td>\n",
              "      <td>0.419019</td>\n",
              "      <td>0.478863</td>\n",
              "      <td>0.448846</td>\n",
              "      <td>1.000000</td>\n",
              "      <td>0.253721</td>\n",
              "      <td>-0.420145</td>\n",
              "    </tr>\n",
              "    <tr>\n",
              "      <th>Generosity</th>\n",
              "      <td>0.069043</td>\n",
              "      <td>-0.118399</td>\n",
              "      <td>-0.056780</td>\n",
              "      <td>-0.071852</td>\n",
              "      <td>0.253721</td>\n",
              "      <td>1.000000</td>\n",
              "      <td>-0.278480</td>\n",
              "    </tr>\n",
              "    <tr>\n",
              "      <th>Perceptions of corruption</th>\n",
              "      <td>-0.418305</td>\n",
              "      <td>-0.334729</td>\n",
              "      <td>-0.210530</td>\n",
              "      <td>-0.353841</td>\n",
              "      <td>-0.420145</td>\n",
              "      <td>-0.278480</td>\n",
              "      <td>1.000000</td>\n",
              "    </tr>\n",
              "  </tbody>\n",
              "</table>\n",
              "</div>"
            ],
            "text/plain": [
              "                              Ladder score  ...  Perceptions of corruption\n",
              "Ladder score                      1.000000  ...                  -0.418305\n",
              "Logged GDP per capita             0.775374  ...                  -0.334729\n",
              "Social support                    0.765001  ...                  -0.210530\n",
              "Healthy life expectancy           0.770316  ...                  -0.353841\n",
              "Freedom to make life choices      0.590597  ...                  -0.420145\n",
              "Generosity                        0.069043  ...                  -0.278480\n",
              "Perceptions of corruption        -0.418305  ...                   1.000000\n",
              "\n",
              "[7 rows x 7 columns]"
            ]
          },
          "metadata": {
            "tags": []
          },
          "execution_count": 6
        }
      ]
    },
    {
      "cell_type": "markdown",
      "metadata": {
        "id": "WuLPz0EymuZY"
      },
      "source": [
        "From the correlation matrix we can observe that **Logged GDP per capita, Social support, Healthy life expectancy** are strongly and positively correlated with the **Happiness Score**.\r\n",
        "\r\n",
        "**Perceptions of corrpution** on the other hand is negatively correlated with ***Happiness Score***."
      ]
    },
    {
      "cell_type": "code",
      "metadata": {
        "colab": {
          "base_uri": "https://localhost:8080/",
          "height": 551
        },
        "id": "xP22R5gYmWE0",
        "outputId": "d82fa629-e520-4893-d509-2ba095e9b8ec"
      },
      "source": [
        "corr = WHR.corr(method = \"pearson\")\r\n",
        "\r\n",
        "f, ax = plt.subplots(figsize=(7, 7))\r\n",
        "\r\n",
        "sns.heatmap(corr, mask=np.zeros_like(corr, dtype=np.bool), \r\n",
        "            cmap=sns.diverging_palette(220, 7, as_cmap=True), square=True, ax=ax)"
      ],
      "execution_count": null,
      "outputs": [
        {
          "output_type": "execute_result",
          "data": {
            "text/plain": [
              "<matplotlib.axes._subplots.AxesSubplot at 0x7fdf369d59b0>"
            ]
          },
          "metadata": {
            "tags": []
          },
          "execution_count": 8
        },
        {
          "output_type": "display_data",
          "data": {
            "image/png": "[encoded data removed]",
            "text/plain": [
              "<Figure size 504x504 with 2 Axes>"
            ]
          },
          "metadata": {
            "tags": [],
            "needs_background": "light"
          }
        }
      ]
    },
    {
      "cell_type": "markdown",
      "metadata": {
        "id": "hFkvIqepnaIy"
      },
      "source": [
        "Similar observation can be concluded from the heat map."
      ]
    },
    {
      "cell_type": "markdown",
      "metadata": {
        "id": "pYn9VXW_2HV9"
      },
      "source": [
        "Firstly we will draw vertical bar plots corresponding to each country to compare different factors contributing to happiness visually"
      ]
    },
    {
      "cell_type": "code",
      "metadata": {
        "id": "zH_tfNMT6OMZ"
      },
      "source": [
        "data=WHR.sort_values('Ladder score',ascending=True)"
      ],
      "execution_count": null,
      "outputs": []
    },
    {
      "cell_type": "code",
      "metadata": {
        "id": "nQRjhB2i7BjI"
      },
      "source": [
        "def normalization(x):\r\n",
        "  x = (x - x.min())/(x.max() - x.min())\r\n",
        "  return x"
      ],
      "execution_count": null,
      "outputs": []
    },
    {
      "cell_type": "code",
      "metadata": {
        "id": "cJazwsDr4wxY"
      },
      "source": [
        "data['Logged GDP per capita'] = normalization(data['Logged GDP per capita'])\r\n",
        "data['Social support'] = normalization(data['Social support'])\r\n",
        "data['Healthy life expectancy'] = normalization(data['Healthy life expectancy'])\r\n",
        "data['Freedom to make life choices'] = normalization(data['Freedom to make life choices'])\r\n",
        "data['Generosity'] = normalization(data['Generosity'])\r\n",
        "data['Perceptions of corruption'] = normalization(data['Perceptions of corruption'])"
      ],
      "execution_count": null,
      "outputs": []
    },
    {
      "cell_type": "code",
      "metadata": {
        "colab": {
          "base_uri": "https://localhost:8080/",
          "height": 1000
        },
        "id": "ACJi0_UX2E9Q",
        "outputId": "f479d88d-cac4-4f31-a0d4-8bb1e19c18e5"
      },
      "source": [
        "df_wh=data.filter(['Country name', 'Logged GDP per capita', 'Social support', 'Healthy life expectancy', 'Freedom to make life choices', 'Generosity', 'Perceptions of corruption'])\r\n",
        "df_wh=df_wh.set_index('Country name')\r\n",
        "df_wh.plot.barh(stacked=True,  figsize=(10,28))"
      ],
      "execution_count": null,
      "outputs": [
        {
          "output_type": "execute_result",
          "data": {
            "text/plain": [
              "<matplotlib.axes._subplots.AxesSubplot at 0x7fdf1e0ce400>"
            ]
          },
          "metadata": {
            "tags": []
          },
          "execution_count": 83
        },
        {
          "output_type": "display_data",
          "data": {
            "image/png": "[encoded data removed]",
            "text/plain": [
              "<Figure size 720x2016 with 1 Axes>"
            ]
          },
          "metadata": {
            "tags": [],
            "needs_background": "light"
          }
        }
      ]
    },
    {
      "cell_type": "markdown",
      "metadata": {
        "id": "v5O_eWVL8d8r"
      },
      "source": [
        "From the above plot countries with high **Happinnes Score** shows that there is a significant contribution by the factors of **Logged GDP per capita, Social Support, Health life expentacy and Freedom to make life choics**. ***Generosity*** shows little contribution in the ***Happiness Score*** as compared to other factors. On the other hand **Perceptions of corruption** is as small as possible with some exception in **Switzerland** which ranks 3rd and have high **Perceptions of corruption**.\r\n",
        "\r\n",
        "Similary for countires with lowest **Happinnes Score** tend to have small contribution from **Logged GDP per capita, Social Support, Health life expentacy, Freedom to make life choics,** **Generosity**, and they have high level of **Perceptions of corruption**. Also with **Rwanda** as exception which has low level of **Perception of corrpution** and other factors aswell. "
      ]
    },
    {
      "cell_type": "markdown",
      "metadata": {
        "id": "n4GegO8Q2DPL"
      },
      "source": [
        "# Clustering"
      ]
    },
    {
      "cell_type": "code",
      "metadata": {
        "colab": {
          "base_uri": "https://localhost:8080/",
          "height": 623
        },
        "id": "No8gdtBiQiH_",
        "outputId": "eb9c0164-3d4a-4dfa-cf40-e91805ad07e6"
      },
      "source": [
        "WHR"
      ],
      "execution_count": null,
      "outputs": [
        {
          "output_type": "execute_result",
          "data": {
            "text/html": [
              "<div>\n",
              "<style scoped>\n",
              "    .dataframe tbody tr th:only-of-type {\n",
              "        vertical-align: middle;\n",
              "    }\n",
              "\n",
              "    .dataframe tbody tr th {\n",
              "        vertical-align: top;\n",
              "    }\n",
              "\n",
              "    .dataframe thead th {\n",
              "        text-align: right;\n",
              "    }\n",
              "</style>\n",
              "<table border=\"1\" class=\"dataframe\">\n",
              "  <thead>\n",
              "    <tr style=\"text-align: right;\">\n",
              "      <th></th>\n",
              "      <th>Country name</th>\n",
              "      <th>Regional indicator</th>\n",
              "      <th>Ladder score</th>\n",
              "      <th>Logged GDP per capita</th>\n",
              "      <th>Social support</th>\n",
              "      <th>Healthy life expectancy</th>\n",
              "      <th>Freedom to make life choices</th>\n",
              "      <th>Generosity</th>\n",
              "      <th>Perceptions of corruption</th>\n",
              "    </tr>\n",
              "  </thead>\n",
              "  <tbody>\n",
              "    <tr>\n",
              "      <th>0</th>\n",
              "      <td>Finland</td>\n",
              "      <td>Western Europe</td>\n",
              "      <td>7.8087</td>\n",
              "      <td>10.639267</td>\n",
              "      <td>0.954330</td>\n",
              "      <td>71.900825</td>\n",
              "      <td>0.949172</td>\n",
              "      <td>-0.059482</td>\n",
              "      <td>0.195445</td>\n",
              "    </tr>\n",
              "    <tr>\n",
              "      <th>1</th>\n",
              "      <td>Denmark</td>\n",
              "      <td>Western Europe</td>\n",
              "      <td>7.6456</td>\n",
              "      <td>10.774001</td>\n",
              "      <td>0.955991</td>\n",
              "      <td>72.402504</td>\n",
              "      <td>0.951444</td>\n",
              "      <td>0.066202</td>\n",
              "      <td>0.168489</td>\n",
              "    </tr>\n",
              "    <tr>\n",
              "      <th>2</th>\n",
              "      <td>Switzerland</td>\n",
              "      <td>Western Europe</td>\n",
              "      <td>7.5599</td>\n",
              "      <td>10.979933</td>\n",
              "      <td>0.942847</td>\n",
              "      <td>74.102448</td>\n",
              "      <td>0.921337</td>\n",
              "      <td>0.105911</td>\n",
              "      <td>0.303728</td>\n",
              "    </tr>\n",
              "    <tr>\n",
              "      <th>3</th>\n",
              "      <td>Iceland</td>\n",
              "      <td>Western Europe</td>\n",
              "      <td>7.5045</td>\n",
              "      <td>10.772559</td>\n",
              "      <td>0.974670</td>\n",
              "      <td>73.000000</td>\n",
              "      <td>0.948892</td>\n",
              "      <td>0.246944</td>\n",
              "      <td>0.711710</td>\n",
              "    </tr>\n",
              "    <tr>\n",
              "      <th>4</th>\n",
              "      <td>Norway</td>\n",
              "      <td>Western Europe</td>\n",
              "      <td>7.4880</td>\n",
              "      <td>11.087804</td>\n",
              "      <td>0.952487</td>\n",
              "      <td>73.200783</td>\n",
              "      <td>0.955750</td>\n",
              "      <td>0.134533</td>\n",
              "      <td>0.263218</td>\n",
              "    </tr>\n",
              "    <tr>\n",
              "      <th>...</th>\n",
              "      <td>...</td>\n",
              "      <td>...</td>\n",
              "      <td>...</td>\n",
              "      <td>...</td>\n",
              "      <td>...</td>\n",
              "      <td>...</td>\n",
              "      <td>...</td>\n",
              "      <td>...</td>\n",
              "      <td>...</td>\n",
              "    </tr>\n",
              "    <tr>\n",
              "      <th>148</th>\n",
              "      <td>Central African Republic</td>\n",
              "      <td>Sub-Saharan Africa</td>\n",
              "      <td>3.4759</td>\n",
              "      <td>6.625160</td>\n",
              "      <td>0.319460</td>\n",
              "      <td>45.200001</td>\n",
              "      <td>0.640881</td>\n",
              "      <td>0.082410</td>\n",
              "      <td>0.891807</td>\n",
              "    </tr>\n",
              "    <tr>\n",
              "      <th>149</th>\n",
              "      <td>Rwanda</td>\n",
              "      <td>Sub-Saharan Africa</td>\n",
              "      <td>3.3123</td>\n",
              "      <td>7.600104</td>\n",
              "      <td>0.540835</td>\n",
              "      <td>61.098846</td>\n",
              "      <td>0.900589</td>\n",
              "      <td>0.055484</td>\n",
              "      <td>0.183541</td>\n",
              "    </tr>\n",
              "    <tr>\n",
              "      <th>150</th>\n",
              "      <td>Zimbabwe</td>\n",
              "      <td>Sub-Saharan Africa</td>\n",
              "      <td>3.2992</td>\n",
              "      <td>7.865712</td>\n",
              "      <td>0.763093</td>\n",
              "      <td>55.617260</td>\n",
              "      <td>0.711458</td>\n",
              "      <td>-0.072064</td>\n",
              "      <td>0.810237</td>\n",
              "    </tr>\n",
              "    <tr>\n",
              "      <th>151</th>\n",
              "      <td>South Sudan</td>\n",
              "      <td>Sub-Saharan Africa</td>\n",
              "      <td>2.8166</td>\n",
              "      <td>7.425360</td>\n",
              "      <td>0.553707</td>\n",
              "      <td>51.000000</td>\n",
              "      <td>0.451314</td>\n",
              "      <td>0.016519</td>\n",
              "      <td>0.763417</td>\n",
              "    </tr>\n",
              "    <tr>\n",
              "      <th>152</th>\n",
              "      <td>Afghanistan</td>\n",
              "      <td>South Asia</td>\n",
              "      <td>2.5669</td>\n",
              "      <td>7.462861</td>\n",
              "      <td>0.470367</td>\n",
              "      <td>52.590000</td>\n",
              "      <td>0.396573</td>\n",
              "      <td>-0.096429</td>\n",
              "      <td>0.933687</td>\n",
              "    </tr>\n",
              "  </tbody>\n",
              "</table>\n",
              "<p>153 rows × 9 columns</p>\n",
              "</div>"
            ],
            "text/plain": [
              "                 Country name  ... Perceptions of corruption\n",
              "0                     Finland  ...                  0.195445\n",
              "1                     Denmark  ...                  0.168489\n",
              "2                 Switzerland  ...                  0.303728\n",
              "3                     Iceland  ...                  0.711710\n",
              "4                      Norway  ...                  0.263218\n",
              "..                        ...  ...                       ...\n",
              "148  Central African Republic  ...                  0.891807\n",
              "149                    Rwanda  ...                  0.183541\n",
              "150                  Zimbabwe  ...                  0.810237\n",
              "151               South Sudan  ...                  0.763417\n",
              "152               Afghanistan  ...                  0.933687\n",
              "\n",
              "[153 rows x 9 columns]"
            ]
          },
          "metadata": {
            "tags": []
          },
          "execution_count": 84
        }
      ]
    },
    {
      "cell_type": "markdown",
      "metadata": {
        "id": "0RODCH0SSAEA"
      },
      "source": [
        "## Happinness Score and Logged GDP per capita"
      ]
    },
    {
      "cell_type": "code",
      "metadata": {
        "id": "rqaBBlLXQj6N"
      },
      "source": [
        "X = WHR.iloc[:, [2, 3]].values"
      ],
      "execution_count": null,
      "outputs": []
    },
    {
      "cell_type": "markdown",
      "metadata": {
        "id": "nWC2EWp2Lx5G"
      },
      "source": [
        "### Using the elbow method to find the optimal number of clusters"
      ]
    },
    {
      "cell_type": "code",
      "metadata": {
        "id": "zWs6ciOoL1b3",
        "colab": {
          "base_uri": "https://localhost:8080/",
          "height": 295
        },
        "outputId": "aa3084c1-aa30-4f32-f5c1-dc2a9aefd91a"
      },
      "source": [
        "from sklearn.cluster import KMeans\n",
        "wcss = []\n",
        "for i in range(1, 11):\n",
        "    kmeans = KMeans(n_clusters = i, init = 'k-means++', random_state = 42)\n",
        "    kmeans.fit(X)\n",
        "    wcss.append(kmeans.inertia_)\n",
        "plt.plot(range(1, 11), wcss)\n",
        "plt.title('The Elbow Method')\n",
        "plt.xlabel('Number of clusters')\n",
        "plt.ylabel('WCSS')\n",
        "plt.show()"
      ],
      "execution_count": null,
      "outputs": [
        {
          "output_type": "display_data",
          "data": {
            "image/png": "[encoded data removed]",
            "text/plain": [
              "<Figure size 432x288 with 1 Axes>"
            ]
          },
          "metadata": {
            "tags": [],
            "needs_background": "light"
          }
        }
      ]
    },
    {
      "cell_type": "markdown",
      "metadata": {
        "id": "D4KIOwlfSKQR"
      },
      "source": [
        "Optimal number of cluster is 3."
      ]
    },
    {
      "cell_type": "markdown",
      "metadata": {
        "id": "VgT0mANLL4Nz"
      },
      "source": [
        "### Training the K-Means model on the dataset"
      ]
    },
    {
      "cell_type": "code",
      "metadata": {
        "id": "cjEfU6ZSMAPl"
      },
      "source": [
        "kmeans = KMeans(n_clusters = 3, init = 'k-means++', random_state = 42)\n",
        "y_kmeans = kmeans.fit_predict(X)"
      ],
      "execution_count": null,
      "outputs": []
    },
    {
      "cell_type": "markdown",
      "metadata": {
        "id": "e7YrS1JAMFnm"
      },
      "source": [
        "### Visualising the clusters"
      ]
    },
    {
      "cell_type": "code",
      "metadata": {
        "id": "d0ZYecccMHNx",
        "colab": {
          "base_uri": "https://localhost:8080/",
          "height": 295
        },
        "outputId": "941b979a-efd9-4451-d8c0-276ed01ccc35"
      },
      "source": [
        "plt.scatter(X[y_kmeans == 0, 0], X[y_kmeans == 0, 1], s = 100, c = 'red', label = 'Cluster 1')\n",
        "plt.scatter(X[y_kmeans == 1, 0], X[y_kmeans == 1, 1], s = 100, c = 'blue', label = 'Cluster 2')\n",
        "plt.scatter(X[y_kmeans == 2, 0], X[y_kmeans == 2, 1], s = 100, c = 'green', label = 'Cluster 3')\n",
        "plt.scatter(kmeans.cluster_centers_[:, 0], kmeans.cluster_centers_[:, 1], s = 300, c = 'yellow', label = 'Centroids')\n",
        "plt.title('Clusters of countires')\n",
        "plt.xlabel('Happiness Score')\n",
        "plt.ylabel('Logged GDP per capita')\n",
        "plt.legend()\n",
        "plt.show()"
      ],
      "execution_count": null,
      "outputs": [
        {
          "output_type": "display_data",
          "data": {
            "image/png": "[encoded data removed]",
            "text/plain": [
              "<Figure size 432x288 with 1 Axes>"
            ]
          },
          "metadata": {
            "tags": [],
            "needs_background": "light"
          }
        }
      ]
    },
    {
      "cell_type": "markdown",
      "metadata": {
        "id": "Vr7-AuMxSSoN"
      },
      "source": [
        "From clustering of **Logged GDP per capita** and **Happinness Score** it indicate that countries with high GDP tends to have high Happinness Score"
      ]
    },
    {
      "cell_type": "markdown",
      "metadata": {
        "id": "6sDu7PVsS92-"
      },
      "source": [
        "## Happinness Score and Social support"
      ]
    },
    {
      "cell_type": "code",
      "metadata": {
        "id": "TxmENOmDS93I"
      },
      "source": [
        "X = WHR.iloc[:, [2, 4]].values"
      ],
      "execution_count": null,
      "outputs": []
    },
    {
      "cell_type": "markdown",
      "metadata": {
        "id": "8rPEZ9tAS93K"
      },
      "source": [
        "### Using the elbow method to find the optimal number of clusters"
      ]
    },
    {
      "cell_type": "code",
      "metadata": {
        "colab": {
          "base_uri": "https://localhost:8080/",
          "height": 295
        },
        "id": "loDolxgmS93L",
        "outputId": "734d26d4-917f-451a-ab0d-3c317a2d1303"
      },
      "source": [
        "from sklearn.cluster import KMeans\n",
        "wcss = []\n",
        "for i in range(1, 11):\n",
        "    kmeans = KMeans(n_clusters = i, init = 'k-means++', random_state = 42)\n",
        "    kmeans.fit(X)\n",
        "    wcss.append(kmeans.inertia_)\n",
        "plt.plot(range(1, 11), wcss)\n",
        "plt.title('The Elbow Method')\n",
        "plt.xlabel('Number of clusters')\n",
        "plt.ylabel('WCSS')\n",
        "plt.show()"
      ],
      "execution_count": null,
      "outputs": [
        {
          "output_type": "display_data",
          "data": {
            "image/png": "[encoded data removed]",
            "text/plain": [
              "<Figure size 432x288 with 1 Axes>"
            ]
          },
          "metadata": {
            "tags": [],
            "needs_background": "light"
          }
        }
      ]
    },
    {
      "cell_type": "markdown",
      "metadata": {
        "id": "xrsW2QH8S93N"
      },
      "source": [
        "Optimal number of cluster is 4."
      ]
    },
    {
      "cell_type": "markdown",
      "metadata": {
        "id": "ElOBJHMAS93O"
      },
      "source": [
        "### Training the K-Means model on the dataset"
      ]
    },
    {
      "cell_type": "code",
      "metadata": {
        "id": "I0vl_K_KS93O"
      },
      "source": [
        "kmeans = KMeans(n_clusters = 4, init = 'k-means++', random_state = 42)\n",
        "y_kmeans = kmeans.fit_predict(X)"
      ],
      "execution_count": null,
      "outputs": []
    },
    {
      "cell_type": "markdown",
      "metadata": {
        "id": "VVKK4nYmS93P"
      },
      "source": [
        "### Visualising the clusters"
      ]
    },
    {
      "cell_type": "code",
      "metadata": {
        "colab": {
          "base_uri": "https://localhost:8080/",
          "height": 295
        },
        "id": "48MpuQcpS93Q",
        "outputId": "bc4c8840-312f-47cc-8cea-3d33ea3a1e58"
      },
      "source": [
        "plt.scatter(X[y_kmeans == 0, 0], X[y_kmeans == 0, 1], s = 100, c = 'red', label = 'Cluster 1')\n",
        "plt.scatter(X[y_kmeans == 1, 0], X[y_kmeans == 1, 1], s = 100, c = 'blue', label = 'Cluster 2')\n",
        "plt.scatter(X[y_kmeans == 2, 0], X[y_kmeans == 2, 1], s = 100, c = 'green', label = 'Cluster 3')\n",
        "plt.scatter(X[y_kmeans == 3, 0], X[y_kmeans == 3, 1], s = 100, c = 'cyan', label = 'Cluster 4')\n",
        "plt.scatter(kmeans.cluster_centers_[:, 0], kmeans.cluster_centers_[:, 1], s = 300, c = 'yellow', label = 'Centroids')\n",
        "plt.title('Clusters of countires')\n",
        "plt.xlabel('Happiness Score')\n",
        "plt.ylabel('Social Support')\n",
        "plt.legend()\n",
        "plt.show()"
      ],
      "execution_count": null,
      "outputs": [
        {
          "output_type": "display_data",
          "data": {
            "image/png": "[encoded data removed]",
            "text/plain": [
              "<Figure size 432x288 with 1 Axes>"
            ]
          },
          "metadata": {
            "tags": [],
            "needs_background": "light"
          }
        }
      ]
    },
    {
      "cell_type": "markdown",
      "metadata": {
        "id": "MxgHMSyXTZJ8"
      },
      "source": [
        "The plot indicates that countries with high Social support tends to have high Happinness score, but there are some countries even though with high social support have low happinness score. Therefore the relationship is not exact."
      ]
    },
    {
      "cell_type": "markdown",
      "metadata": {
        "id": "ctPxGfwtT6kL"
      },
      "source": [
        "## Happinness Score and Healthy life expectancy"
      ]
    },
    {
      "cell_type": "code",
      "metadata": {
        "id": "8lkJJZT_T6kp"
      },
      "source": [
        "X = WHR.iloc[:, [2, 5]].values"
      ],
      "execution_count": null,
      "outputs": []
    },
    {
      "cell_type": "markdown",
      "metadata": {
        "id": "U_O75iInT6kr"
      },
      "source": [
        "### Using the elbow method to find the optimal number of clusters"
      ]
    },
    {
      "cell_type": "code",
      "metadata": {
        "colab": {
          "base_uri": "https://localhost:8080/",
          "height": 295
        },
        "id": "k1-TxHJOT6ks",
        "outputId": "85344adf-31f5-4bcf-b95a-692e4aa06885"
      },
      "source": [
        "from sklearn.cluster import KMeans\n",
        "wcss = []\n",
        "for i in range(1, 11):\n",
        "    kmeans = KMeans(n_clusters = i, init = 'k-means++', random_state = 42)\n",
        "    kmeans.fit(X)\n",
        "    wcss.append(kmeans.inertia_)\n",
        "plt.plot(range(1, 11), wcss)\n",
        "plt.title('The Elbow Method')\n",
        "plt.xlabel('Number of clusters')\n",
        "plt.ylabel('WCSS')\n",
        "plt.show()"
      ],
      "execution_count": null,
      "outputs": [
        {
          "output_type": "display_data",
          "data": {
            "image/png": "[encoded data removed]",
            "text/plain": [
              "<Figure size 432x288 with 1 Axes>"
            ]
          },
          "metadata": {
            "tags": [],
            "needs_background": "light"
          }
        }
      ]
    },
    {
      "cell_type": "markdown",
      "metadata": {
        "id": "kL3cchzZT6ku"
      },
      "source": [
        "Optimal number of cluster is 3."
      ]
    },
    {
      "cell_type": "markdown",
      "metadata": {
        "id": "Rp4bJH6pT6kv"
      },
      "source": [
        "### Training the K-Means model on the dataset"
      ]
    },
    {
      "cell_type": "code",
      "metadata": {
        "id": "Qn0IZZSET6kw"
      },
      "source": [
        "kmeans = KMeans(n_clusters = 3, init = 'k-means++', random_state = 42)\n",
        "y_kmeans = kmeans.fit_predict(X)"
      ],
      "execution_count": null,
      "outputs": []
    },
    {
      "cell_type": "markdown",
      "metadata": {
        "id": "JG7wUELcT6kx"
      },
      "source": [
        "### Visualising the clusters"
      ]
    },
    {
      "cell_type": "code",
      "metadata": {
        "colab": {
          "base_uri": "https://localhost:8080/",
          "height": 295
        },
        "id": "wZDlx-wxT6kx",
        "outputId": "ae44f8f0-4b45-4fcc-8e7d-b9a31dd84c37"
      },
      "source": [
        "plt.scatter(X[y_kmeans == 0, 0], X[y_kmeans == 0, 1], s = 100, c = 'red', label = 'Cluster 1')\n",
        "plt.scatter(X[y_kmeans == 1, 0], X[y_kmeans == 1, 1], s = 100, c = 'blue', label = 'Cluster 2')\n",
        "plt.scatter(X[y_kmeans == 2, 0], X[y_kmeans == 2, 1], s = 100, c = 'green', label = 'Cluster 3')\n",
        "plt.scatter(kmeans.cluster_centers_[:, 0], kmeans.cluster_centers_[:, 1], s = 300, c = 'yellow', label = 'Centroids')\n",
        "plt.title('Clusters of countires')\n",
        "plt.xlabel('Happiness Score')\n",
        "plt.ylabel('Healthy life expectancy')\n",
        "plt.legend()\n",
        "plt.show()"
      ],
      "execution_count": null,
      "outputs": [
        {
          "output_type": "display_data",
          "data": {
            "image/png": "[encoded data removed]",
            "text/plain": [
              "<Figure size 432x288 with 1 Axes>"
            ]
          },
          "metadata": {
            "tags": [],
            "needs_background": "light"
          }
        }
      ]
    },
    {
      "cell_type": "markdown",
      "metadata": {
        "id": "34UZ5fD6UTB3"
      },
      "source": [
        "The plot indicates that countries with high life expectancy tends to show high Happinness score."
      ]
    },
    {
      "cell_type": "markdown",
      "metadata": {
        "id": "RI4vu53TUn9_"
      },
      "source": [
        "## Happinness Score and Freedom to make life choices"
      ]
    },
    {
      "cell_type": "code",
      "metadata": {
        "id": "OIkUC2Z1Un-C"
      },
      "source": [
        "X = WHR.iloc[:, [2, 6]].values"
      ],
      "execution_count": null,
      "outputs": []
    },
    {
      "cell_type": "markdown",
      "metadata": {
        "id": "0JEryHgQUn-E"
      },
      "source": [
        "### Using the elbow method to find the optimal number of clusters"
      ]
    },
    {
      "cell_type": "code",
      "metadata": {
        "colab": {
          "base_uri": "https://localhost:8080/",
          "height": 295
        },
        "id": "eWdXhyFDUn-F",
        "outputId": "31bc9ced-58da-4331-8ed5-092a60682176"
      },
      "source": [
        "from sklearn.cluster import KMeans\n",
        "wcss = []\n",
        "for i in range(1, 11):\n",
        "    kmeans = KMeans(n_clusters = i, init = 'k-means++', random_state = 42)\n",
        "    kmeans.fit(X)\n",
        "    wcss.append(kmeans.inertia_)\n",
        "plt.plot(range(1, 11), wcss)\n",
        "plt.title('The Elbow Method')\n",
        "plt.xlabel('Number of clusters')\n",
        "plt.ylabel('WCSS')\n",
        "plt.show()"
      ],
      "execution_count": null,
      "outputs": [
        {
          "output_type": "display_data",
          "data": {
            "image/png": "[encoded data removed]",
            "text/plain": [
              "<Figure size 432x288 with 1 Axes>"
            ]
          },
          "metadata": {
            "tags": [],
            "needs_background": "light"
          }
        }
      ]
    },
    {
      "cell_type": "markdown",
      "metadata": {
        "id": "sLyk8OVhUn-I"
      },
      "source": [
        "Optimal number of cluster is 4."
      ]
    },
    {
      "cell_type": "markdown",
      "metadata": {
        "id": "6dGbVQhGUn-J"
      },
      "source": [
        "### Training the K-Means model on the dataset"
      ]
    },
    {
      "cell_type": "code",
      "metadata": {
        "id": "z6Wcsr-PUn-K"
      },
      "source": [
        "kmeans = KMeans(n_clusters = 4, init = 'k-means++', random_state = 42)\n",
        "y_kmeans = kmeans.fit_predict(X)"
      ],
      "execution_count": null,
      "outputs": []
    },
    {
      "cell_type": "markdown",
      "metadata": {
        "id": "bE0HHNJJUn-L"
      },
      "source": [
        "### Visualising the clusters"
      ]
    },
    {
      "cell_type": "code",
      "metadata": {
        "colab": {
          "base_uri": "https://localhost:8080/",
          "height": 295
        },
        "id": "tnUCGnpjUn-M",
        "outputId": "82e4d14f-e6c1-41cd-918e-d3c7e9329cf4"
      },
      "source": [
        "plt.scatter(X[y_kmeans == 0, 0], X[y_kmeans == 0, 1], s = 100, c = 'red', label = 'Cluster 1')\n",
        "plt.scatter(X[y_kmeans == 1, 0], X[y_kmeans == 1, 1], s = 100, c = 'blue', label = 'Cluster 2')\n",
        "plt.scatter(X[y_kmeans == 2, 0], X[y_kmeans == 2, 1], s = 100, c = 'green', label = 'Cluster 3')\n",
        "plt.scatter(X[y_kmeans == 3, 0], X[y_kmeans == 3, 1], s = 100, c = 'cyan', label = 'Cluster 4')\n",
        "plt.scatter(kmeans.cluster_centers_[:, 0], kmeans.cluster_centers_[:, 1], s = 300, c = 'yellow', label = 'Centroids')\n",
        "plt.title('Clusters of countires')\n",
        "plt.xlabel('Happiness Score')\n",
        "plt.ylabel('Freedom to make life choices')\n",
        "plt.legend()\n",
        "plt.show()"
      ],
      "execution_count": null,
      "outputs": [
        {
          "output_type": "display_data",
          "data": {
            "image/png": "[encoded data removed]",
            "text/plain": [
              "<Figure size 432x288 with 1 Axes>"
            ]
          },
          "metadata": {
            "tags": [],
            "needs_background": "light"
          }
        }
      ]
    },
    {
      "cell_type": "markdown",
      "metadata": {
        "id": "DtcVhgARVBHn"
      },
      "source": [
        "The plot indicates that even with high Freedom to make life choices countires indicates high as well as low Happiness score."
      ]
    },
    {
      "cell_type": "markdown",
      "metadata": {
        "id": "IWt0OKlfVx7o"
      },
      "source": [
        "## Happinness Score and Generosity"
      ]
    },
    {
      "cell_type": "code",
      "metadata": {
        "id": "ucO5gP36Vx7q"
      },
      "source": [
        "X = WHR.iloc[:, [2, 7]].values"
      ],
      "execution_count": null,
      "outputs": []
    },
    {
      "cell_type": "markdown",
      "metadata": {
        "id": "zdQ4B1SJVx7s"
      },
      "source": [
        "### Using the elbow method to find the optimal number of clusters"
      ]
    },
    {
      "cell_type": "code",
      "metadata": {
        "colab": {
          "base_uri": "https://localhost:8080/",
          "height": 295
        },
        "id": "smpJUPSBVx7t",
        "outputId": "c77faf4e-fec1-440c-eefb-ad6607ac7622"
      },
      "source": [
        "from sklearn.cluster import KMeans\n",
        "wcss = []\n",
        "for i in range(1, 11):\n",
        "    kmeans = KMeans(n_clusters = i, init = 'k-means++', random_state = 42)\n",
        "    kmeans.fit(X)\n",
        "    wcss.append(kmeans.inertia_)\n",
        "plt.plot(range(1, 11), wcss)\n",
        "plt.title('The Elbow Method')\n",
        "plt.xlabel('Number of clusters')\n",
        "plt.ylabel('WCSS')\n",
        "plt.show()"
      ],
      "execution_count": null,
      "outputs": [
        {
          "output_type": "display_data",
          "data": {
            "image/png": "[encoded data removed]",
            "text/plain": [
              "<Figure size 432x288 with 1 Axes>"
            ]
          },
          "metadata": {
            "tags": [],
            "needs_background": "light"
          }
        }
      ]
    },
    {
      "cell_type": "markdown",
      "metadata": {
        "id": "7fwwTxDfVx70"
      },
      "source": [
        "Optimal number of cluster is 4."
      ]
    },
    {
      "cell_type": "markdown",
      "metadata": {
        "id": "0mHSluSYVx71"
      },
      "source": [
        "### Training the K-Means model on the dataset"
      ]
    },
    {
      "cell_type": "code",
      "metadata": {
        "id": "n5tAbRRfVx72"
      },
      "source": [
        "kmeans = KMeans(n_clusters = 4, init = 'k-means++', random_state = 42)\n",
        "y_kmeans = kmeans.fit_predict(X)"
      ],
      "execution_count": null,
      "outputs": []
    },
    {
      "cell_type": "markdown",
      "metadata": {
        "id": "8w6OKXNAVx73"
      },
      "source": [
        "### Visualising the clusters"
      ]
    },
    {
      "cell_type": "code",
      "metadata": {
        "colab": {
          "base_uri": "https://localhost:8080/",
          "height": 295
        },
        "id": "lRHrLJK5Vx74",
        "outputId": "1b8cf404-e4d5-4329-9620-f7c7e97623a4"
      },
      "source": [
        "plt.scatter(X[y_kmeans == 0, 0], X[y_kmeans == 0, 1], s = 100, c = 'red', label = 'Cluster 1')\n",
        "plt.scatter(X[y_kmeans == 1, 0], X[y_kmeans == 1, 1], s = 100, c = 'blue', label = 'Cluster 2')\n",
        "plt.scatter(X[y_kmeans == 2, 0], X[y_kmeans == 2, 1], s = 100, c = 'green', label = 'Cluster 3')\n",
        "plt.scatter(X[y_kmeans == 3, 0], X[y_kmeans == 3, 1], s = 100, c = 'cyan', label = 'Cluster 4')\n",
        "plt.scatter(kmeans.cluster_centers_[:, 0], kmeans.cluster_centers_[:, 1], s = 300, c = 'yellow', label = 'Centroids')\n",
        "plt.title('Clusters of countires')\n",
        "plt.xlabel('Happiness Score')\n",
        "plt.ylabel('Generosity')\n",
        "plt.legend()\n",
        "plt.show()"
      ],
      "execution_count": null,
      "outputs": [
        {
          "output_type": "display_data",
          "data": {
            "image/png": "[encoded data removed]",
            "text/plain": [
              "<Figure size 432x288 with 1 Axes>"
            ]
          },
          "metadata": {
            "tags": [],
            "needs_background": "light"
          }
        }
      ]
    },
    {
      "cell_type": "markdown",
      "metadata": {
        "id": "ypxuvllXV-FI"
      },
      "source": [
        "The plot indicates that there is a random relationship between generosity and Happiness score. As it is obeserved from the plot that even though countires with high generosity shows low happiness score and vice-versa. "
      ]
    },
    {
      "cell_type": "code",
      "metadata": {
        "colab": {
          "base_uri": "https://localhost:8080/",
          "height": 504
        },
        "id": "yYXQWqxrVs8Z",
        "outputId": "d93b8d65-473e-455b-ed59-e7f618560081"
      },
      "source": [
        "WHR"
      ],
      "execution_count": null,
      "outputs": [
        {
          "output_type": "execute_result",
          "data": {
            "text/html": [
              "<div>\n",
              "<style scoped>\n",
              "    .dataframe tbody tr th:only-of-type {\n",
              "        vertical-align: middle;\n",
              "    }\n",
              "\n",
              "    .dataframe tbody tr th {\n",
              "        vertical-align: top;\n",
              "    }\n",
              "\n",
              "    .dataframe thead th {\n",
              "        text-align: right;\n",
              "    }\n",
              "</style>\n",
              "<table border=\"1\" class=\"dataframe\">\n",
              "  <thead>\n",
              "    <tr style=\"text-align: right;\">\n",
              "      <th></th>\n",
              "      <th>Country name</th>\n",
              "      <th>Regional indicator</th>\n",
              "      <th>Ladder score</th>\n",
              "      <th>Logged GDP per capita</th>\n",
              "      <th>Social support</th>\n",
              "      <th>Healthy life expectancy</th>\n",
              "      <th>Freedom to make life choices</th>\n",
              "      <th>Generosity</th>\n",
              "      <th>Perceptions of corruption</th>\n",
              "    </tr>\n",
              "  </thead>\n",
              "  <tbody>\n",
              "    <tr>\n",
              "      <th>0</th>\n",
              "      <td>Finland</td>\n",
              "      <td>Western Europe</td>\n",
              "      <td>7.8087</td>\n",
              "      <td>10.639267</td>\n",
              "      <td>0.954330</td>\n",
              "      <td>71.900825</td>\n",
              "      <td>0.949172</td>\n",
              "      <td>-0.059482</td>\n",
              "      <td>0.195445</td>\n",
              "    </tr>\n",
              "    <tr>\n",
              "      <th>1</th>\n",
              "      <td>Denmark</td>\n",
              "      <td>Western Europe</td>\n",
              "      <td>7.6456</td>\n",
              "      <td>10.774001</td>\n",
              "      <td>0.955991</td>\n",
              "      <td>72.402504</td>\n",
              "      <td>0.951444</td>\n",
              "      <td>0.066202</td>\n",
              "      <td>0.168489</td>\n",
              "    </tr>\n",
              "    <tr>\n",
              "      <th>2</th>\n",
              "      <td>Switzerland</td>\n",
              "      <td>Western Europe</td>\n",
              "      <td>7.5599</td>\n",
              "      <td>10.979933</td>\n",
              "      <td>0.942847</td>\n",
              "      <td>74.102448</td>\n",
              "      <td>0.921337</td>\n",
              "      <td>0.105911</td>\n",
              "      <td>0.303728</td>\n",
              "    </tr>\n",
              "    <tr>\n",
              "      <th>3</th>\n",
              "      <td>Iceland</td>\n",
              "      <td>Western Europe</td>\n",
              "      <td>7.5045</td>\n",
              "      <td>10.772559</td>\n",
              "      <td>0.974670</td>\n",
              "      <td>73.000000</td>\n",
              "      <td>0.948892</td>\n",
              "      <td>0.246944</td>\n",
              "      <td>0.711710</td>\n",
              "    </tr>\n",
              "    <tr>\n",
              "      <th>4</th>\n",
              "      <td>Norway</td>\n",
              "      <td>Western Europe</td>\n",
              "      <td>7.4880</td>\n",
              "      <td>11.087804</td>\n",
              "      <td>0.952487</td>\n",
              "      <td>73.200783</td>\n",
              "      <td>0.955750</td>\n",
              "      <td>0.134533</td>\n",
              "      <td>0.263218</td>\n",
              "    </tr>\n",
              "    <tr>\n",
              "      <th>...</th>\n",
              "      <td>...</td>\n",
              "      <td>...</td>\n",
              "      <td>...</td>\n",
              "      <td>...</td>\n",
              "      <td>...</td>\n",
              "      <td>...</td>\n",
              "      <td>...</td>\n",
              "      <td>...</td>\n",
              "      <td>...</td>\n",
              "    </tr>\n",
              "    <tr>\n",
              "      <th>148</th>\n",
              "      <td>Central African Republic</td>\n",
              "      <td>Sub-Saharan Africa</td>\n",
              "      <td>3.4759</td>\n",
              "      <td>6.625160</td>\n",
              "      <td>0.319460</td>\n",
              "      <td>45.200001</td>\n",
              "      <td>0.640881</td>\n",
              "      <td>0.082410</td>\n",
              "      <td>0.891807</td>\n",
              "    </tr>\n",
              "    <tr>\n",
              "      <th>149</th>\n",
              "      <td>Rwanda</td>\n",
              "      <td>Sub-Saharan Africa</td>\n",
              "      <td>3.3123</td>\n",
              "      <td>7.600104</td>\n",
              "      <td>0.540835</td>\n",
              "      <td>61.098846</td>\n",
              "      <td>0.900589</td>\n",
              "      <td>0.055484</td>\n",
              "      <td>0.183541</td>\n",
              "    </tr>\n",
              "    <tr>\n",
              "      <th>150</th>\n",
              "      <td>Zimbabwe</td>\n",
              "      <td>Sub-Saharan Africa</td>\n",
              "      <td>3.2992</td>\n",
              "      <td>7.865712</td>\n",
              "      <td>0.763093</td>\n",
              "      <td>55.617260</td>\n",
              "      <td>0.711458</td>\n",
              "      <td>-0.072064</td>\n",
              "      <td>0.810237</td>\n",
              "    </tr>\n",
              "    <tr>\n",
              "      <th>151</th>\n",
              "      <td>South Sudan</td>\n",
              "      <td>Sub-Saharan Africa</td>\n",
              "      <td>2.8166</td>\n",
              "      <td>7.425360</td>\n",
              "      <td>0.553707</td>\n",
              "      <td>51.000000</td>\n",
              "      <td>0.451314</td>\n",
              "      <td>0.016519</td>\n",
              "      <td>0.763417</td>\n",
              "    </tr>\n",
              "    <tr>\n",
              "      <th>152</th>\n",
              "      <td>Afghanistan</td>\n",
              "      <td>South Asia</td>\n",
              "      <td>2.5669</td>\n",
              "      <td>7.462861</td>\n",
              "      <td>0.470367</td>\n",
              "      <td>52.590000</td>\n",
              "      <td>0.396573</td>\n",
              "      <td>-0.096429</td>\n",
              "      <td>0.933687</td>\n",
              "    </tr>\n",
              "  </tbody>\n",
              "</table>\n",
              "<p>153 rows × 9 columns</p>\n",
              "</div>"
            ],
            "text/plain": [
              "                 Country name  ... Perceptions of corruption\n",
              "0                     Finland  ...                  0.195445\n",
              "1                     Denmark  ...                  0.168489\n",
              "2                 Switzerland  ...                  0.303728\n",
              "3                     Iceland  ...                  0.711710\n",
              "4                      Norway  ...                  0.263218\n",
              "..                        ...  ...                       ...\n",
              "148  Central African Republic  ...                  0.891807\n",
              "149                    Rwanda  ...                  0.183541\n",
              "150                  Zimbabwe  ...                  0.810237\n",
              "151               South Sudan  ...                  0.763417\n",
              "152               Afghanistan  ...                  0.933687\n",
              "\n",
              "[153 rows x 9 columns]"
            ]
          },
          "metadata": {
            "tags": []
          },
          "execution_count": 25
        }
      ]
    },
    {
      "cell_type": "markdown",
      "metadata": {
        "id": "80S_L1AJWm8U"
      },
      "source": [
        "## Happinness Score and Perception of Corruption"
      ]
    },
    {
      "cell_type": "code",
      "metadata": {
        "id": "tu-sAm2TWm8m"
      },
      "source": [
        "X = WHR.iloc[:, [2, 8]].values"
      ],
      "execution_count": null,
      "outputs": []
    },
    {
      "cell_type": "markdown",
      "metadata": {
        "id": "8BtEUtUNWm8n"
      },
      "source": [
        "### Using the elbow method to find the optimal number of clusters"
      ]
    },
    {
      "cell_type": "code",
      "metadata": {
        "colab": {
          "base_uri": "https://localhost:8080/",
          "height": 295
        },
        "id": "FoJPOVJiWm8n",
        "outputId": "1f9766e7-957f-4ba8-ca83-a91422eb1663"
      },
      "source": [
        "from sklearn.cluster import KMeans\n",
        "wcss = []\n",
        "for i in range(1, 11):\n",
        "    kmeans = KMeans(n_clusters = i, init = 'k-means++', random_state = 42)\n",
        "    kmeans.fit(X)\n",
        "    wcss.append(kmeans.inertia_)\n",
        "plt.plot(range(1, 11), wcss)\n",
        "plt.title('The Elbow Method')\n",
        "plt.xlabel('Number of clusters')\n",
        "plt.ylabel('WCSS')\n",
        "plt.show()"
      ],
      "execution_count": null,
      "outputs": [
        {
          "output_type": "display_data",
          "data": {
            "image/png": "[encoded data removed]",
            "text/plain": [
              "<Figure size 432x288 with 1 Axes>"
            ]
          },
          "metadata": {
            "tags": [],
            "needs_background": "light"
          }
        }
      ]
    },
    {
      "cell_type": "markdown",
      "metadata": {
        "id": "ctN_Bhe4Wm8p"
      },
      "source": [
        "Optimal number of cluster is 4."
      ]
    },
    {
      "cell_type": "markdown",
      "metadata": {
        "id": "v2GaRzT3Wm8q"
      },
      "source": [
        "### Training the K-Means model on the dataset"
      ]
    },
    {
      "cell_type": "code",
      "metadata": {
        "id": "PM8UftUhWm8q"
      },
      "source": [
        "kmeans = KMeans(n_clusters = 4, init = 'k-means++', random_state = 42)\n",
        "y_kmeans = kmeans.fit_predict(X)"
      ],
      "execution_count": null,
      "outputs": []
    },
    {
      "cell_type": "markdown",
      "metadata": {
        "id": "VvBmfUwVWm8r"
      },
      "source": [
        "### Visualising the clusters"
      ]
    },
    {
      "cell_type": "code",
      "metadata": {
        "colab": {
          "base_uri": "https://localhost:8080/",
          "height": 295
        },
        "id": "wQotw0Z1Wm8s",
        "outputId": "cd742cbc-5227-488f-f486-1794388707b6"
      },
      "source": [
        "plt.scatter(X[y_kmeans == 0, 0], X[y_kmeans == 0, 1], s = 100, c = 'red', label = 'Cluster 1')\n",
        "plt.scatter(X[y_kmeans == 1, 0], X[y_kmeans == 1, 1], s = 100, c = 'blue', label = 'Cluster 2')\n",
        "plt.scatter(X[y_kmeans == 2, 0], X[y_kmeans == 2, 1], s = 100, c = 'green', label = 'Cluster 3')\n",
        "plt.scatter(X[y_kmeans == 3, 0], X[y_kmeans == 3, 1], s = 100, c = 'cyan', label = 'Cluster 4')\n",
        "plt.scatter(kmeans.cluster_centers_[:, 0], kmeans.cluster_centers_[:, 1], s = 300, c = 'yellow', label = 'Centroids')\n",
        "plt.title('Clusters of countires')\n",
        "plt.xlabel('Happiness Score')\n",
        "plt.ylabel('Perception of Corruption')\n",
        "plt.legend()\n",
        "plt.show()"
      ],
      "execution_count": null,
      "outputs": [
        {
          "output_type": "display_data",
          "data": {
            "image/png": "[encoded data removed]",
            "text/plain": [
              "<Figure size 432x288 with 1 Axes>"
            ]
          },
          "metadata": {
            "tags": [],
            "needs_background": "light"
          }
        }
      ]
    },
    {
      "cell_type": "markdown",
      "metadata": {
        "id": "rATzssQzWzaU"
      },
      "source": [
        "The plot indicates that countire with low Corruption show high happiness score. But there are still some countires which show high happiness score with high level of corruption. One more interesting observation is that most of the countries with happiness score less than 0.65 shows high level of perception of corruption."
      ]
    },
    {
      "cell_type": "markdown",
      "metadata": {
        "id": "IFOZ8dTvXsA1"
      },
      "source": [
        "# Predictive Modelling"
      ]
    },
    {
      "cell_type": "markdown",
      "metadata": {
        "id": "x5AnOlgXHW59"
      },
      "source": [
        "# Simple Linear Regression"
      ]
    },
    {
      "cell_type": "code",
      "metadata": {
        "id": "PG0Y_qGYDCMf"
      },
      "source": [
        "X = WHR.iloc[:, 3:9].values\r\n",
        "y = WHR.iloc[:, 2].values"
      ],
      "execution_count": null,
      "outputs": []
    },
    {
      "cell_type": "markdown",
      "metadata": {
        "id": "YS8FeLHYS-nI"
      },
      "source": [
        "## Feature Scaling"
      ]
    },
    {
      "cell_type": "code",
      "metadata": {
        "id": "PGeAlD1HTDI1"
      },
      "source": [
        "from sklearn.preprocessing import StandardScaler\n",
        "sc_X = StandardScaler()\n",
        "X = sc_X.fit_transform(X)"
      ],
      "execution_count": null,
      "outputs": []
    },
    {
      "cell_type": "markdown",
      "metadata": {
        "id": "WemVnqgeA70k"
      },
      "source": [
        "## Splitting the dataset into the Training set and Test set"
      ]
    },
    {
      "cell_type": "code",
      "metadata": {
        "id": "Kb_v_ae-A-20"
      },
      "source": [
        "from sklearn.model_selection import train_test_split\n",
        "X_train, X_test, y_train, y_test = train_test_split(X, y, test_size = 0.15, random_state = 0)"
      ],
      "execution_count": null,
      "outputs": []
    },
    {
      "cell_type": "markdown",
      "metadata": {
        "id": "k-McZVsQBINc"
      },
      "source": [
        "## Training the Simple Linear Regression model on the Training set"
      ]
    },
    {
      "cell_type": "code",
      "metadata": {
        "id": "ywPjx0L1BMiD",
        "colab": {
          "base_uri": "https://localhost:8080/"
        },
        "outputId": "1c3591ed-1216-47b4-94bd-811ce58b9130"
      },
      "source": [
        "from sklearn.linear_model import LinearRegression\n",
        "regressor = LinearRegression()\n",
        "regressor.fit(X_train, y_train)"
      ],
      "execution_count": null,
      "outputs": [
        {
          "output_type": "execute_result",
          "data": {
            "text/plain": [
              "LinearRegression(copy_X=True, fit_intercept=True, n_jobs=None, normalize=False)"
            ]
          },
          "metadata": {
            "tags": []
          },
          "execution_count": 38
        }
      ]
    },
    {
      "cell_type": "markdown",
      "metadata": {
        "id": "xNkXL1YQBiBT"
      },
      "source": [
        "## Predicting the Test set results"
      ]
    },
    {
      "cell_type": "code",
      "metadata": {
        "id": "TQKmwvtdBkyb",
        "colab": {
          "base_uri": "https://localhost:8080/"
        },
        "outputId": "c3bb3e74-f8b3-4c9d-94d3-408b5692456b"
      },
      "source": [
        "y_predLR = regressor.predict(X_test)\n",
        "y_predLR\n",
        "#np.set_printoptions(precision=2)\n",
        "#print(np.concatenate((y_pred.reshape(len(y_pred),1), y_test.reshape(len(y_test),1)),1))"
      ],
      "execution_count": null,
      "outputs": [
        {
          "output_type": "execute_result",
          "data": {
            "text/plain": [
              "array([6.13655321, 4.57606826, 5.69781039, 5.35826695, 6.18327103,\n",
              "       7.06934273, 6.03727919, 4.14933354, 4.46682933, 5.93218439,\n",
              "       6.16014021, 6.07605419, 5.86804099, 3.22278177, 5.17662629,\n",
              "       5.91314808, 5.43528331, 4.13192802, 5.24458549, 4.5205168 ,\n",
              "       5.70828217, 6.82568947, 3.90595806])"
            ]
          },
          "metadata": {
            "tags": []
          },
          "execution_count": 39
        }
      ]
    },
    {
      "cell_type": "markdown",
      "metadata": {
        "id": "fkM39q6J_i3C"
      },
      "source": [
        "## Calculating Loss "
      ]
    },
    {
      "cell_type": "code",
      "metadata": {
        "id": "yinalRA8_lZj",
        "colab": {
          "base_uri": "https://localhost:8080/"
        },
        "outputId": "888ced1e-d4bd-4c51-8ed3-a1fe62c793c7"
      },
      "source": [
        "from sklearn.metrics import mean_squared_error\n",
        "\n",
        "loss = mean_squared_error(y_test, y_predLR, squared=False)\n",
        "print(loss)"
      ],
      "execution_count": null,
      "outputs": [
        {
          "output_type": "stream",
          "text": [
            "0.4998602228581041\n"
          ],
          "name": "stdout"
        }
      ]
    },
    {
      "cell_type": "code",
      "metadata": {
        "colab": {
          "base_uri": "https://localhost:8080/"
        },
        "id": "82lqSGXAG73o",
        "outputId": "e499bb95-cd98-43ec-f9da-4ca1bbb4e518"
      },
      "source": [
        "print(np.sqrt(loss))"
      ],
      "execution_count": null,
      "outputs": [
        {
          "output_type": "stream",
          "text": [
            "0.7070079369130902\n"
          ],
          "name": "stdout"
        }
      ]
    },
    {
      "cell_type": "markdown",
      "metadata": {
        "id": "TGucdx9oGtCB"
      },
      "source": [
        "The loss of the linear regression model is **0.499** which implies that the predicted values differ from actual values by **0.707**."
      ]
    },
    {
      "cell_type": "markdown",
      "metadata": {
        "id": "3oK6tU7n_I6e"
      },
      "source": [
        "# Support Vector machine"
      ]
    },
    {
      "cell_type": "markdown",
      "metadata": {
        "id": "eiU6D2QFRjxY"
      },
      "source": [
        "## Training the SVR model on the whole dataset"
      ]
    },
    {
      "cell_type": "code",
      "metadata": {
        "id": "y6R4rt_GRz15",
        "colab": {
          "base_uri": "https://localhost:8080/"
        },
        "outputId": "548d7c34-706e-4e85-9981-49e490f1662b"
      },
      "source": [
        "from sklearn.svm import SVR\n",
        "regressor = SVR(kernel = 'rbf')\n",
        "regressor.fit(X_train, y_train)"
      ],
      "execution_count": null,
      "outputs": [
        {
          "output_type": "execute_result",
          "data": {
            "text/plain": [
              "SVR(C=1.0, cache_size=200, coef0=0.0, degree=3, epsilon=0.1, gamma='scale',\n",
              "    kernel='rbf', max_iter=-1, shrinking=True, tol=0.001, verbose=False)"
            ]
          },
          "metadata": {
            "tags": []
          },
          "execution_count": 42
        }
      ]
    },
    {
      "cell_type": "markdown",
      "metadata": {
        "id": "EeJ-j0SY_zEr"
      },
      "source": [
        "## Predicting the Test set results"
      ]
    },
    {
      "cell_type": "code",
      "metadata": {
        "colab": {
          "base_uri": "https://localhost:8080/"
        },
        "id": "kNWlNlVN_zFN",
        "outputId": "e798d0ba-679f-4cda-d394-e4057a0384f5"
      },
      "source": [
        "y_predSVM = regressor.predict(X_test)\n",
        "y_predSVM\n",
        "#np.set_printoptions(precision=2)\n",
        "#print(np.concatenate((y_pred.reshape(len(y_pred),1), y_test.reshape(len(y_test),1)),1))"
      ],
      "execution_count": null,
      "outputs": [
        {
          "output_type": "execute_result",
          "data": {
            "text/plain": [
              "array([6.08783719, 4.72097653, 5.84166628, 5.37320518, 6.43107689,\n",
              "       7.17126909, 5.95073801, 4.5343096 , 3.94866401, 6.05140296,\n",
              "       6.39255114, 5.90898234, 4.85668491, 4.21626834, 5.06407024,\n",
              "       5.96673831, 5.53735081, 4.5674473 , 5.19279304, 4.6415418 ,\n",
              "       5.71484553, 7.2685465 , 4.23599628])"
            ]
          },
          "metadata": {
            "tags": []
          },
          "execution_count": 43
        }
      ]
    },
    {
      "cell_type": "markdown",
      "metadata": {
        "id": "rBWDRPFP_zFP"
      },
      "source": [
        "## Calculating Loss "
      ]
    },
    {
      "cell_type": "code",
      "metadata": {
        "colab": {
          "base_uri": "https://localhost:8080/"
        },
        "id": "d_kqveWJ_zFP",
        "outputId": "fdea18c2-0988-411b-e4d6-3bb00fd82e3c"
      },
      "source": [
        "from sklearn.metrics import mean_squared_error\n",
        "\n",
        "loss = mean_squared_error(y_test, y_predSVM, squared=False)\n",
        "print(loss)"
      ],
      "execution_count": null,
      "outputs": [
        {
          "output_type": "stream",
          "text": [
            "0.46648512404129844\n"
          ],
          "name": "stdout"
        }
      ]
    },
    {
      "cell_type": "code",
      "metadata": {
        "colab": {
          "base_uri": "https://localhost:8080/"
        },
        "id": "28ZQBh-O_zFQ",
        "outputId": "5251e8c5-8c87-4f29-8271-b6c1ce7c8379"
      },
      "source": [
        "print(np.sqrt(loss))"
      ],
      "execution_count": null,
      "outputs": [
        {
          "output_type": "stream",
          "text": [
            "0.6829971625426408\n"
          ],
          "name": "stdout"
        }
      ]
    },
    {
      "cell_type": "markdown",
      "metadata": {
        "id": "rl7lAeuOF9jx"
      },
      "source": [
        "The loss of the SVM regression model is **0.466** which implies that the predicted values differ from actual values by **0.683**.\r\n",
        "\r\n",
        "As compared to Simple linear regression, SVM model performs better and thus the SVM model is used to predict the unknown values."
      ]
    },
    {
      "cell_type": "markdown",
      "metadata": {
        "id": "ikrC2m3QHC-X"
      },
      "source": [
        "# Predicting Happiness score"
      ]
    },
    {
      "cell_type": "code",
      "metadata": {
        "id": "LhS602HtFGlX"
      },
      "source": [
        "predict = pd.read_csv('PredictingHappiness2020.csv')"
      ],
      "execution_count": null,
      "outputs": []
    },
    {
      "cell_type": "code",
      "metadata": {
        "colab": {
          "base_uri": "https://localhost:8080/",
          "height": 455
        },
        "id": "QzrviCTQHiJ1",
        "outputId": "4bf08257-baaf-4f49-ba4b-89a82cdfff37"
      },
      "source": [
        "predict"
      ],
      "execution_count": null,
      "outputs": [
        {
          "output_type": "execute_result",
          "data": {
            "text/html": [
              "<div>\n",
              "<style scoped>\n",
              "    .dataframe tbody tr th:only-of-type {\n",
              "        vertical-align: middle;\n",
              "    }\n",
              "\n",
              "    .dataframe tbody tr th {\n",
              "        vertical-align: top;\n",
              "    }\n",
              "\n",
              "    .dataframe thead th {\n",
              "        text-align: right;\n",
              "    }\n",
              "</style>\n",
              "<table border=\"1\" class=\"dataframe\">\n",
              "  <thead>\n",
              "    <tr style=\"text-align: right;\">\n",
              "      <th></th>\n",
              "      <th>Country name</th>\n",
              "      <th>Regional indicator</th>\n",
              "      <th>Ladder score</th>\n",
              "      <th>Logged GDP per capita</th>\n",
              "      <th>Social support</th>\n",
              "      <th>Healthy life expectancy</th>\n",
              "      <th>Freedom to make life choices</th>\n",
              "      <th>Generosity</th>\n",
              "      <th>Perceptions of corruption</th>\n",
              "    </tr>\n",
              "  </thead>\n",
              "  <tbody>\n",
              "    <tr>\n",
              "      <th>0</th>\n",
              "      <td>Uto</td>\n",
              "      <td>Western Europe</td>\n",
              "      <td>NaN</td>\n",
              "      <td>11.450681</td>\n",
              "      <td>0.974670</td>\n",
              "      <td>76.804581</td>\n",
              "      <td>0.974998</td>\n",
              "      <td>0.560664</td>\n",
              "      <td>0.109784</td>\n",
              "    </tr>\n",
              "    <tr>\n",
              "      <th>1</th>\n",
              "      <td>Wea</td>\n",
              "      <td>Western Europe</td>\n",
              "      <td>NaN</td>\n",
              "      <td>10.688402</td>\n",
              "      <td>0.913134</td>\n",
              "      <td>72.863565</td>\n",
              "      <td>0.854993</td>\n",
              "      <td>0.038923</td>\n",
              "      <td>0.528730</td>\n",
              "    </tr>\n",
              "    <tr>\n",
              "      <th>2</th>\n",
              "      <td>Ssaa</td>\n",
              "      <td>Sub-Saharan Africa</td>\n",
              "      <td>NaN</td>\n",
              "      <td>7.425360</td>\n",
              "      <td>0.553707</td>\n",
              "      <td>51.000000</td>\n",
              "      <td>0.451314</td>\n",
              "      <td>0.016519</td>\n",
              "      <td>0.763417</td>\n",
              "    </tr>\n",
              "    <tr>\n",
              "      <th>3</th>\n",
              "      <td>Seaa</td>\n",
              "      <td>Southeast Asia</td>\n",
              "      <td>NaN</td>\n",
              "      <td>9.366847</td>\n",
              "      <td>0.824093</td>\n",
              "      <td>64.710476</td>\n",
              "      <td>0.912667</td>\n",
              "      <td>0.161870</td>\n",
              "      <td>0.704920</td>\n",
              "    </tr>\n",
              "    <tr>\n",
              "      <th>4</th>\n",
              "      <td>Saa</td>\n",
              "      <td>South Asia</td>\n",
              "      <td>NaN</td>\n",
              "      <td>8.559491</td>\n",
              "      <td>0.708996</td>\n",
              "      <td>62.448662</td>\n",
              "      <td>0.771805</td>\n",
              "      <td>0.035106</td>\n",
              "      <td>0.790656</td>\n",
              "    </tr>\n",
              "    <tr>\n",
              "      <th>5</th>\n",
              "      <td>Naa</td>\n",
              "      <td>North America and ANZ</td>\n",
              "      <td>NaN</td>\n",
              "      <td>10.709919</td>\n",
              "      <td>0.933842</td>\n",
              "      <td>72.177067</td>\n",
              "      <td>0.907045</td>\n",
              "      <td>0.164180</td>\n",
              "      <td>0.431717</td>\n",
              "    </tr>\n",
              "    <tr>\n",
              "      <th>6</th>\n",
              "      <td>Menaa</td>\n",
              "      <td>Middle East and North Africa</td>\n",
              "      <td>NaN</td>\n",
              "      <td>9.713648</td>\n",
              "      <td>0.796720</td>\n",
              "      <td>65.313611</td>\n",
              "      <td>0.710171</td>\n",
              "      <td>-0.084426</td>\n",
              "      <td>0.761510</td>\n",
              "    </tr>\n",
              "    <tr>\n",
              "      <th>7</th>\n",
              "      <td>Laca</td>\n",
              "      <td>Latin America and Caribbean</td>\n",
              "      <td>NaN</td>\n",
              "      <td>9.303024</td>\n",
              "      <td>0.856891</td>\n",
              "      <td>66.717328</td>\n",
              "      <td>0.830684</td>\n",
              "      <td>-0.071901</td>\n",
              "      <td>0.801526</td>\n",
              "    </tr>\n",
              "    <tr>\n",
              "      <th>8</th>\n",
              "      <td>Eaa</td>\n",
              "      <td>East Asia</td>\n",
              "      <td>NaN</td>\n",
              "      <td>10.316895</td>\n",
              "      <td>0.859852</td>\n",
              "      <td>71.094847</td>\n",
              "      <td>0.761027</td>\n",
              "      <td>-0.051978</td>\n",
              "      <td>0.702266</td>\n",
              "    </tr>\n",
              "    <tr>\n",
              "      <th>9</th>\n",
              "      <td>Cisa</td>\n",
              "      <td>Commonwealth of Independent States</td>\n",
              "      <td>NaN</td>\n",
              "      <td>9.207234</td>\n",
              "      <td>0.856729</td>\n",
              "      <td>64.726558</td>\n",
              "      <td>0.784004</td>\n",
              "      <td>-0.041285</td>\n",
              "      <td>0.746387</td>\n",
              "    </tr>\n",
              "    <tr>\n",
              "      <th>10</th>\n",
              "      <td>Ceea</td>\n",
              "      <td>Central and Eastern Europe</td>\n",
              "      <td>NaN</td>\n",
              "      <td>9.975703</td>\n",
              "      <td>0.874566</td>\n",
              "      <td>68.148988</td>\n",
              "      <td>0.770271</td>\n",
              "      <td>-0.102712</td>\n",
              "      <td>0.850859</td>\n",
              "    </tr>\n",
              "    <tr>\n",
              "      <th>11</th>\n",
              "      <td>Dysto</td>\n",
              "      <td>Sub-Saharan Africa</td>\n",
              "      <td>NaN</td>\n",
              "      <td>6.492642</td>\n",
              "      <td>0.319460</td>\n",
              "      <td>45.200001</td>\n",
              "      <td>0.396573</td>\n",
              "      <td>-0.300907</td>\n",
              "      <td>0.935585</td>\n",
              "    </tr>\n",
              "  </tbody>\n",
              "</table>\n",
              "</div>"
            ],
            "text/plain": [
              "   Country name  ... Perceptions of corruption\n",
              "0           Uto  ...                  0.109784\n",
              "1           Wea  ...                  0.528730\n",
              "2          Ssaa  ...                  0.763417\n",
              "3          Seaa  ...                  0.704920\n",
              "4           Saa  ...                  0.790656\n",
              "5           Naa  ...                  0.431717\n",
              "6         Menaa  ...                  0.761510\n",
              "7          Laca  ...                  0.801526\n",
              "8           Eaa  ...                  0.702266\n",
              "9          Cisa  ...                  0.746387\n",
              "10         Ceea  ...                  0.850859\n",
              "11        Dysto  ...                  0.935585\n",
              "\n",
              "[12 rows x 9 columns]"
            ]
          },
          "metadata": {
            "tags": []
          },
          "execution_count": 47
        }
      ]
    },
    {
      "cell_type": "code",
      "metadata": {
        "colab": {
          "base_uri": "https://localhost:8080/"
        },
        "id": "JqamZ95JHaOA",
        "outputId": "c2e002b9-a72a-4595-9405-ef94f7d6c7ea"
      },
      "source": [
        "X_pr = predict.iloc[:, 3:9].values\r\n",
        "X_pr"
      ],
      "execution_count": null,
      "outputs": [
        {
          "output_type": "execute_result",
          "data": {
            "text/plain": [
              "array([[ 1.14506807e+01,  9.74669576e-01,  7.68045807e+01,\n",
              "         9.74998116e-01,  5.60663998e-01,  1.09784193e-01],\n",
              "       [ 1.06884020e+01,  9.13133996e-01,  7.28635650e+01,\n",
              "         8.54993255e-01,  3.89231950e-02,  5.28729918e-01],\n",
              "       [ 7.42535973e+00,  5.53707123e-01,  5.10000000e+01,\n",
              "         4.51313615e-01,  1.65185480e-02,  7.63417304e-01],\n",
              "       [ 9.36684746e+00,  8.24093176e-01,  6.47104759e+01,\n",
              "         9.12666606e-01,  1.61869782e-01,  7.04920359e-01],\n",
              "       [ 8.55949075e+00,  7.08995802e-01,  6.24486618e+01,\n",
              "         7.71805439e-01,  3.51058990e-02,  7.90655741e-01],\n",
              "       [ 1.07099192e+01,  9.33842316e-01,  7.21770668e+01,\n",
              "         9.07045499e-01,  1.64180184e-01,  4.31716662e-01],\n",
              "       [ 9.71364784e+00,  7.96719783e-01,  6.53136112e+01,\n",
              "         7.10170557e-01, -8.44264780e-02,  7.61509552e-01],\n",
              "       [ 9.30302361e+00,  8.56891042e-01,  6.67173284e+01,\n",
              "         8.30683632e-01, -7.19012650e-02,  8.01526180e-01],\n",
              "       [ 1.03168945e+01,  8.59852393e-01,  7.10948467e+01,\n",
              "         7.61026641e-01, -5.19775100e-02,  7.02266326e-01],\n",
              "       [ 9.20723375e+00,  8.56728698e-01,  6.47265580e+01,\n",
              "         7.84003799e-01, -4.12847240e-02,  7.46387045e-01],\n",
              "       [ 9.97570324e+00,  8.74566278e-01,  6.81489879e+01,\n",
              "         7.70270982e-01, -1.02712375e-01,  8.50858678e-01],\n",
              "       [ 6.49264240e+00,  3.19459856e-01,  4.52000008e+01,\n",
              "         3.96573007e-01, -3.00907373e-01,  9.35585141e-01]])"
            ]
          },
          "metadata": {
            "tags": []
          },
          "execution_count": 48
        }
      ]
    },
    {
      "cell_type": "markdown",
      "metadata": {
        "id": "bFGxLeadHaOC"
      },
      "source": [
        "## Feature Scaling"
      ]
    },
    {
      "cell_type": "code",
      "metadata": {
        "id": "Q6oeCFQHHaOE"
      },
      "source": [
        "X_pr = sc_X.fit_transform(X_pr)"
      ],
      "execution_count": null,
      "outputs": []
    },
    {
      "cell_type": "markdown",
      "metadata": {
        "id": "dFpJA9RCICu9"
      },
      "source": [
        "## Predicting the unknown set results"
      ]
    },
    {
      "cell_type": "code",
      "metadata": {
        "colab": {
          "base_uri": "https://localhost:8080/"
        },
        "id": "aAzjU1CYICvL",
        "outputId": "8b66cbdd-0c7e-4b93-ba57-ba1d398ea89d"
      },
      "source": [
        "predSVM = regressor.predict(X_pr)\n",
        "predSVM\n",
        "#np.set_printoptions(precision=2)\n",
        "#print(np.concatenate((y_pred.reshape(len(y_pred),1), y_test.reshape(len(y_test),1)),1))"
      ],
      "execution_count": null,
      "outputs": [
        {
          "output_type": "execute_result",
          "data": {
            "text/plain": [
              "array([6.36111643, 6.73417029, 4.25281286, 5.86405376, 5.16942914,\n",
              "       7.13226704, 5.33289783, 5.79021462, 6.09657696, 5.60147814,\n",
              "       5.87151571, 4.04305327])"
            ]
          },
          "metadata": {
            "tags": []
          },
          "execution_count": 50
        }
      ]
    },
    {
      "cell_type": "code",
      "metadata": {
        "id": "usL3_OqCw4K6"
      },
      "source": [
        "submission = pd.DataFrame({\r\n",
        "        \"Country name\": predict[\"Country name\"],\r\n",
        "        \"Happiness Score\": predSVM\r\n",
        "    })\r\n",
        "\r\n",
        "submission.to_csv('Prediction.csv', index=False)"
      ],
      "execution_count": null,
      "outputs": []
    },
    {
      "cell_type": "markdown",
      "metadata": {
        "id": "QMdUWJTOIo1d"
      },
      "source": [
        "# Impact of the Covid-19 pandemic on people's wellbeing"
      ]
    },
    {
      "cell_type": "markdown",
      "metadata": {
        "id": "8EBx8QRKIq_N"
      },
      "source": [
        "COVID-19 social isolation measures have had a profound impact on the psychological and mental well-being of individuals across society. Many of the anticipated consequences of isolation measures are themselves key risk factors for mental health issues including suicide, self-harm, substance misuse, and domestic and child abuse. Social interaction has been widely interlinked with psychological well-being, social opportunities and employment; thereby restriction of these measures are suggested to be profoundly distressing to those experiencing strict isolation. Previous epidemics have induced widespread fear, loneliness and psychological sequelae; COVID-19 is inducing similar effects.\r\n",
        "\r\n",
        "The implementation of a nationwide lockdown disrupts the day-to-day lives of the general public; the pandemic has caused an unprecedented shrinkage of the world economy and the closure of businesses across the world. There have been reports of heightened feelings of anxiety and depression, with some fearful of post-lockdown anxiety and paranoia; the largest stressor being an overarching feeling of loss (loss of income, routine or social interaction). Other at-risk groups include children and students who have experienced closure of schools and/or universities causing significant disruption to daily routines, with factors such as exam postponement, accommodation expulsion and graduation cancellations contributing. Furthermore, there has been a significant detrimental impact to those suffering from ongoing mental health conditions, due to decreased access to support and resources. The COVID-19 pandemic has seen the incidence of domestic abuse dramatically increase globally because of reduced options for support, increased exposure to exploitative relationships and disaster-related instability within the household. Consequently, there has been a 32–36% increase in domestic abuse incidents in France, 21–35% increase across the USA, 25% increase in UK domestic abuse hotline calls and a 75% increase in Google searches relating to domestic abuse support. The social-distancing and sheltering-in-place measures are essential to minimising the spread of COVID-19; however, they are likely to dramatically increase the risk of domestic and inter-family violence.\r\n",
        "\r\n",
        "The COVID-19 pandemic is having far reaching effects into the mental well-being of individuals in society. Authorities must take into account not only the economic effects of social isolation, but the mental impact on the community also, implementing appropriate measures such as expansion of the “safe spaces” model, to help those suffering mentally and the most vulnerable, preventing further detriment."
      ]
    },
    {
      "cell_type": "markdown",
      "metadata": {
        "id": "Oy7vvxEYNidh"
      },
      "source": [
        "## Potenital Public Policy"
      ]
    },
    {
      "cell_type": "markdown",
      "metadata": {
        "id": "vksNYlHHN6st"
      },
      "source": [
        "Depression and anxiety symptoms were substantively elevated during the pandemic, including for individuals with no existing mental health diagnosis. Pandemic-induced impairments in work and social functioning were strongly associated with elevated depression and anxiety symptoms, as well as decreased psychological wellbeing. Financial distress due to the pandemic, was also a key correlate of poorer mental health.\r\n",
        "\r\n",
        "These findings suggest that minimizing disruption to work and social functioning, and increasing access to mental health services in the community, are important policy goals to minimize pandemic-related impacts on mental health and wellbeing. From the above data analysis it has been concluded that GDP shows a strong association with the Happiness Score, so the government should work on innovative policies that should be focused on boosting the economy and minimizing disruption to work and social functioning.\r\n",
        "\r\n",
        "Social Support has also shown strong association with the Happiness score, so policies with increasing access to mental health services in the community would be favorable.\r\n",
        "\r\n",
        "Healthy life expectancy indicates strong association with the Happiness score, so policies that promotes health and fitness would be preferable. Some example is **Fit India Movement** in India to encourage people to remain healthy and fit by including physical activities and sports in their daily lives. "
      ]
    },
    {
      "cell_type": "markdown",
      "metadata": {
        "id": "_z6NRmkGSTRc"
      },
      "source": [
        "# Limitations"
      ]
    },
    {
      "cell_type": "markdown",
      "metadata": {
        "id": "ZqmFk2jaSoEt"
      },
      "source": [
        "One of the limitations was concerned with the less data avaiable. The model trained to predict the Happiness Score can be trained even better by the availability of more data.\r\n",
        "\r\n",
        "Further limitations are often highlighted by economists and psychologists. \r\n",
        "Namely, while we might commonly think of happiness as the opposite of depression, this does not always appear to be the case. \r\n",
        "People living with mental health problems can simultaneously report feeling happy.\r\n",
        "Some of the happiest nations, such as Finland and Denmark, also have high suicide rates, as reported in a new study, which set out to expose some of the contradictions in the Nordic dominance of global happiness league tables. \r\n",
        "\r\n",
        "On the other hand we can assume that happiness as the opposite of depression."
      ]
    }
  ]
}